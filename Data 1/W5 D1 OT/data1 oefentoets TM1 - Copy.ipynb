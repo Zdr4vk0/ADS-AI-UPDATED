{
 "cells": [
  {
   "cell_type": "markdown",
   "metadata": {},
   "source": [
    "# Oefentoets Data 1 Toetsmoment 1"
   ]
  },
  {
   "cell_type": "code",
   "execution_count": 98,
   "metadata": {},
   "outputs": [],
   "source": [
    "import pandas as pd"
   ]
  },
  {
   "cell_type": "markdown",
   "metadata": {},
   "source": [
    "De dataset is een CBS dataset over werkgelegenheid. De kolommen zijn \n",
    "* geslacht, \n",
    "* bedrijfstak, \n",
    "* Perioden, in jaren, \n",
    "* Onderwerp, welke manier om werkgelegenheid te meten\n",
    "* Waarde, de uiteindelijke waarde. Bij aantallen in duizenden, bij uren in miljoen uren"
   ]
  },
  {
   "cell_type": "code",
   "execution_count": 99,
   "metadata": {},
   "outputs": [
    {
     "name": "stdout",
     "output_type": "stream",
     "text": [
      "['Mannen' 'Vrouwen']\n",
      "['A Landbouw, bosbouw en visserij' 'B Delfstoffenwinning' 'C Industrie'\n",
      " 'D Energievoorziening' 'E Waterbedrijven en afvalbeheer'\n",
      " 'F Bouwnijverheid' 'G Handel' 'H Vervoer en opslag' 'I Horeca'\n",
      " 'J Informatie en communicatie' 'K Financiële dienstverlening'\n",
      " 'L Verhuur en handel van onroerend goed'\n",
      " 'M Specialistische zakelijke diensten'\n",
      " 'N Verhuur en overige zakelijke diensten'\n",
      " 'O Openbaar bestuur en overheidsdiensten' 'P Onderwijs'\n",
      " 'Q Gezondheids- en welzijnszorg' 'R Cultuur, sport en recreatie'\n",
      " 'S Overige dienstverlening' 'T Huishoudens']\n",
      "[2013 2014 2015 2016 2017 2018]\n",
      "['Werkzame personen' 'Banen' 'Arbeidsjaren' 'Gewerkte uren']\n",
      "['Werknemers' 'Zelfstandigen']\n"
     ]
    },
    {
     "data": {
      "text/html": [
       "<div>\n",
       "<style scoped>\n",
       "    .dataframe tbody tr th:only-of-type {\n",
       "        vertical-align: middle;\n",
       "    }\n",
       "\n",
       "    .dataframe tbody tr th {\n",
       "        vertical-align: top;\n",
       "    }\n",
       "\n",
       "    .dataframe thead th {\n",
       "        text-align: right;\n",
       "    }\n",
       "</style>\n",
       "<table border=\"1\" class=\"dataframe\">\n",
       "  <thead>\n",
       "    <tr style=\"text-align: right;\">\n",
       "      <th></th>\n",
       "      <th>Geslacht</th>\n",
       "      <th>Bedrijfstakken/branches (SBI 2008)</th>\n",
       "      <th>Perioden</th>\n",
       "      <th>Onderwerp</th>\n",
       "      <th>Type werkenden</th>\n",
       "      <th>Waarde</th>\n",
       "    </tr>\n",
       "  </thead>\n",
       "  <tbody>\n",
       "    <tr>\n",
       "      <th>0</th>\n",
       "      <td>Mannen</td>\n",
       "      <td>A Landbouw, bosbouw en visserij</td>\n",
       "      <td>2013</td>\n",
       "      <td>Werkzame personen</td>\n",
       "      <td>Werknemers</td>\n",
       "      <td>68</td>\n",
       "    </tr>\n",
       "    <tr>\n",
       "      <th>1</th>\n",
       "      <td>Mannen</td>\n",
       "      <td>A Landbouw, bosbouw en visserij</td>\n",
       "      <td>2013</td>\n",
       "      <td>Werkzame personen</td>\n",
       "      <td>Zelfstandigen</td>\n",
       "      <td>66</td>\n",
       "    </tr>\n",
       "    <tr>\n",
       "      <th>2</th>\n",
       "      <td>Mannen</td>\n",
       "      <td>A Landbouw, bosbouw en visserij</td>\n",
       "      <td>2013</td>\n",
       "      <td>Banen</td>\n",
       "      <td>Werknemers</td>\n",
       "      <td>75</td>\n",
       "    </tr>\n",
       "    <tr>\n",
       "      <th>3</th>\n",
       "      <td>Mannen</td>\n",
       "      <td>A Landbouw, bosbouw en visserij</td>\n",
       "      <td>2013</td>\n",
       "      <td>Banen</td>\n",
       "      <td>Zelfstandigen</td>\n",
       "      <td>89</td>\n",
       "    </tr>\n",
       "    <tr>\n",
       "      <th>4</th>\n",
       "      <td>Mannen</td>\n",
       "      <td>A Landbouw, bosbouw en visserij</td>\n",
       "      <td>2013</td>\n",
       "      <td>Arbeidsjaren</td>\n",
       "      <td>Werknemers</td>\n",
       "      <td>56</td>\n",
       "    </tr>\n",
       "    <tr>\n",
       "      <th>...</th>\n",
       "      <td>...</td>\n",
       "      <td>...</td>\n",
       "      <td>...</td>\n",
       "      <td>...</td>\n",
       "      <td>...</td>\n",
       "      <td>...</td>\n",
       "    </tr>\n",
       "    <tr>\n",
       "      <th>1915</th>\n",
       "      <td>Vrouwen</td>\n",
       "      <td>T Huishoudens</td>\n",
       "      <td>2018</td>\n",
       "      <td>Banen</td>\n",
       "      <td>Zelfstandigen</td>\n",
       "      <td>0</td>\n",
       "    </tr>\n",
       "    <tr>\n",
       "      <th>1916</th>\n",
       "      <td>Vrouwen</td>\n",
       "      <td>T Huishoudens</td>\n",
       "      <td>2018</td>\n",
       "      <td>Arbeidsjaren</td>\n",
       "      <td>Werknemers</td>\n",
       "      <td>13</td>\n",
       "    </tr>\n",
       "    <tr>\n",
       "      <th>1917</th>\n",
       "      <td>Vrouwen</td>\n",
       "      <td>T Huishoudens</td>\n",
       "      <td>2018</td>\n",
       "      <td>Arbeidsjaren</td>\n",
       "      <td>Zelfstandigen</td>\n",
       "      <td>0</td>\n",
       "    </tr>\n",
       "    <tr>\n",
       "      <th>1918</th>\n",
       "      <td>Vrouwen</td>\n",
       "      <td>T Huishoudens</td>\n",
       "      <td>2018</td>\n",
       "      <td>Gewerkte uren</td>\n",
       "      <td>Werknemers</td>\n",
       "      <td>23</td>\n",
       "    </tr>\n",
       "    <tr>\n",
       "      <th>1919</th>\n",
       "      <td>Vrouwen</td>\n",
       "      <td>T Huishoudens</td>\n",
       "      <td>2018</td>\n",
       "      <td>Gewerkte uren</td>\n",
       "      <td>Zelfstandigen</td>\n",
       "      <td>0</td>\n",
       "    </tr>\n",
       "  </tbody>\n",
       "</table>\n",
       "<p>1920 rows × 6 columns</p>\n",
       "</div>"
      ],
      "text/plain": [
       "     Geslacht Bedrijfstakken/branches (SBI 2008)  Perioden          Onderwerp  \\\n",
       "0      Mannen    A Landbouw, bosbouw en visserij      2013  Werkzame personen   \n",
       "1      Mannen    A Landbouw, bosbouw en visserij      2013  Werkzame personen   \n",
       "2      Mannen    A Landbouw, bosbouw en visserij      2013              Banen   \n",
       "3      Mannen    A Landbouw, bosbouw en visserij      2013              Banen   \n",
       "4      Mannen    A Landbouw, bosbouw en visserij      2013       Arbeidsjaren   \n",
       "...       ...                                ...       ...                ...   \n",
       "1915  Vrouwen                      T Huishoudens      2018              Banen   \n",
       "1916  Vrouwen                      T Huishoudens      2018       Arbeidsjaren   \n",
       "1917  Vrouwen                      T Huishoudens      2018       Arbeidsjaren   \n",
       "1918  Vrouwen                      T Huishoudens      2018      Gewerkte uren   \n",
       "1919  Vrouwen                      T Huishoudens      2018      Gewerkte uren   \n",
       "\n",
       "     Type werkenden  Waarde  \n",
       "0        Werknemers      68  \n",
       "1     Zelfstandigen      66  \n",
       "2        Werknemers      75  \n",
       "3     Zelfstandigen      89  \n",
       "4        Werknemers      56  \n",
       "...             ...     ...  \n",
       "1915  Zelfstandigen       0  \n",
       "1916     Werknemers      13  \n",
       "1917  Zelfstandigen       0  \n",
       "1918     Werknemers      23  \n",
       "1919  Zelfstandigen       0  \n",
       "\n",
       "[1920 rows x 6 columns]"
      ]
     },
     "execution_count": 99,
     "metadata": {},
     "output_type": "execute_result"
    }
   ],
   "source": [
    "# Inlezen\n",
    "data = pd.read_csv('werkgel_ot.csv', sep=\";\")\n",
    "cols = list(data.columns)\n",
    "cols.remove('Waarde')\n",
    "for col in cols:\n",
    "    print(data[col].unique())\n",
    "data"
   ]
  },
  {
   "cell_type": "code",
   "execution_count": 106,
   "metadata": {},
   "outputs": [
    {
     "data": {
      "text/plain": [
       "1403"
      ]
     },
     "execution_count": 106,
     "metadata": {},
     "output_type": "execute_result"
    }
   ],
   "source": [
    "# 1a\n",
    "filtr = data[data['Bedrijfstakken/branches (SBI 2008)'] == 'J Informatie en communicatie']\n",
    "grouped = filtr.groupby('Perioden')['Waarde'].sum()\n",
    "grouped[2017]"
   ]
  },
  {
   "cell_type": "code",
   "execution_count": 110,
   "metadata": {},
   "outputs": [
    {
     "name": "stdout",
     "output_type": "stream",
     "text": [
      "286 2013\n"
     ]
    }
   ],
   "source": [
    "# 2a\n",
    "selectie = data[(data['Onderwerp'] == 'Banen') \n",
    "                &(data['Bedrijfstakken/branches (SBI 2008)'] == 'J Informatie en communicatie')]\n",
    "grouped2=(selectie.groupby('Perioden')['Waarde'].sum())\n",
    "print(grouped2.min()# minmale waarde (286)\n",
    "      , grouped2.idxmin()) #bijbehorend jaar (2013)"
   ]
  },
  {
   "cell_type": "code",
   "execution_count": 131,
   "metadata": {
    "scrolled": true
   },
   "outputs": [
    {
     "data": {
      "text/html": [
       "<div>\n",
       "<style scoped>\n",
       "    .dataframe tbody tr th:only-of-type {\n",
       "        vertical-align: middle;\n",
       "    }\n",
       "\n",
       "    .dataframe tbody tr th {\n",
       "        vertical-align: top;\n",
       "    }\n",
       "\n",
       "    .dataframe thead tr th {\n",
       "        text-align: left;\n",
       "    }\n",
       "\n",
       "    .dataframe thead tr:last-of-type th {\n",
       "        text-align: right;\n",
       "    }\n",
       "</style>\n",
       "<table border=\"1\" class=\"dataframe\">\n",
       "  <thead>\n",
       "    <tr>\n",
       "      <th></th>\n",
       "      <th>Waarde</th>\n",
       "      <th>pctChange</th>\n",
       "    </tr>\n",
       "    <tr>\n",
       "      <th>Geslacht</th>\n",
       "      <th>Mannen</th>\n",
       "      <th></th>\n",
       "    </tr>\n",
       "    <tr>\n",
       "      <th>Perioden</th>\n",
       "      <th></th>\n",
       "      <th></th>\n",
       "    </tr>\n",
       "  </thead>\n",
       "  <tbody>\n",
       "    <tr>\n",
       "      <th>2016</th>\n",
       "      <td>144.0</td>\n",
       "      <td>NaN</td>\n",
       "    </tr>\n",
       "    <tr>\n",
       "      <th>2017</th>\n",
       "      <td>146.0</td>\n",
       "      <td>1.388889</td>\n",
       "    </tr>\n",
       "    <tr>\n",
       "      <th>2018</th>\n",
       "      <td>148.0</td>\n",
       "      <td>1.369863</td>\n",
       "    </tr>\n",
       "  </tbody>\n",
       "</table>\n",
       "</div>"
      ],
      "text/plain": [
       "         Waarde pctChange\n",
       "Geslacht Mannen          \n",
       "Perioden                 \n",
       "2016      144.0       NaN\n",
       "2017      146.0  1.388889\n",
       "2018      148.0  1.369863"
      ]
     },
     "metadata": {},
     "output_type": "display_data"
    }
   ],
   "source": [
    "# 3a\n",
    "selectie2 = data[(data['Onderwerp'] == 'Gewerkte uren') \n",
    "                &(data['Bedrijfstakken/branches (SBI 2008)'] == 'P Onderwijs')]\n",
    "pvt = pd.pivot_table(selectie2, index=['Perioden'], columns=['Geslacht'], values=['Waarde'])\n",
    "#3b\n",
    "pvt2 = pvt.loc[2016:, [('Waarde', 'Mannen')]]\n",
    "pvt2['pctChange'] = pvt2['Waarde','Mannen'].pct_change()*100\n",
    "display(pvt2)"
   ]
  },
  {
   "cell_type": "code",
   "execution_count": 160,
   "metadata": {},
   "outputs": [
    {
     "name": "stdout",
     "output_type": "stream",
     "text": [
      "De procentuele verrandering van 2018 ten opzichte van 2018 is: 8.995%\n"
     ]
    }
   ],
   "source": [
    "# 4a  komt op toets.\n",
    "grouped4 = data[data['Onderwerp'] == 'Arbeidsjaren'].groupby('Perioden')['Waarde'].sum()\n",
    "print(f'De procentuele verrandering van 2018 ten opzichte van 2018 is: {((grouped4[2018]-grouped4[2013]) / grouped4[2013]*100).round(3)}%')\n"
   ]
  },
  {
   "cell_type": "code",
   "execution_count": null,
   "metadata": {},
   "outputs": [],
   "source": []
  },
  {
   "cell_type": "code",
   "execution_count": null,
   "metadata": {},
   "outputs": [],
   "source": []
  },
  {
   "cell_type": "code",
   "execution_count": null,
   "metadata": {},
   "outputs": [],
   "source": []
  }
 ],
 "metadata": {
  "kernelspec": {
   "display_name": "Python 3 (ipykernel)",
   "language": "python",
   "name": "python3"
  },
  "language_info": {
   "codemirror_mode": {
    "name": "ipython",
    "version": 3
   },
   "file_extension": ".py",
   "mimetype": "text/x-python",
   "name": "python",
   "nbconvert_exporter": "python",
   "pygments_lexer": "ipython3",
   "version": "3.11.4"
  }
 },
 "nbformat": 4,
 "nbformat_minor": 4
}
