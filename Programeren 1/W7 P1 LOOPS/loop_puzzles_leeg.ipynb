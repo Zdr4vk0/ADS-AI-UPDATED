{
  "nbformat": 4,
  "nbformat_minor": 0,
  "metadata": {
    "colab": {
      "provenance": []
    },
    "kernelspec": {
      "name": "python3",
      "display_name": "Python 3"
    },
    "language_info": {
      "name": "python"
    }
  },
  "cells": [
    {
      "cell_type": "markdown",
      "source": [
        "Gebruik **while** en **for** loops om  met de lijsten **'liedje'** en **'mannen_met_baarden'** onderstaande tekst te printen.  \n",
        "\n",
        "Al die willen te kaap'ren varen  \n",
        "Moeten mannen met baarden zijn    \n",
        "Jan  \n",
        "Piet  \n",
        "Joris   \n",
        "en Corneel  \n",
        "Die hebben baarden, die hebben baarden  \n",
        "Jan  \n",
        "Piet  \n",
        "Joris   \n",
        "en Corneel  \n",
        "Die hebben baarden, zij varen mee\n",
        "\n",
        "Al die willen de mast beklimmen  \n",
        "Moeten mannen met baarden zijn    \n",
        "Jan  \n",
        "Piet  \n",
        "Joris   \n",
        "en Corneel  \n",
        "Die hebben baarden, die hebben baarden  \n",
        "Jan  \n",
        "Piet  \n",
        "Joris   \n",
        "en Corneel   \n",
        "Die hebben baarden, zij klimmen mee"
      ],
      "metadata": {
        "id": "co_X-NlAEJtL"
      }
    },
    {
      "cell_type": "code",
      "source": [
        "liedje = ['Al die willen te kaapren varen',\n",
        "          'Moeten mannen met baarden zijn',\n",
        "          'Die hebben baarden, die hebben baarden',\n",
        "          'Die hebben baarden, zij varen mee.',\n",
        "          'Al die willen de mast beklimmen',\n",
        "          'Moeten mannen met baarden zijn',\n",
        "          'Die hebben baarden, die hebben baarden',\n",
        "          'Die hebben baarden, zij klimmen mee']\n",
        "\n",
        "mannen_met_baarden = ['Jan ','Piet ','Joris ','en Corneel']\n",
        "\n",
        "\n",
        "# jouw code hier:\n",
        "\n",
        "\n",
        "\n",
        "\n",
        "\n",
        "\n",
        "\n",
        "\n",
        "\n"
      ],
      "metadata": {
        "id": "LBs5_V0vENMV"
      },
      "execution_count": null,
      "outputs": []
    },
    {
      "cell_type": "markdown",
      "source": [
        "Je bent opzoek naar de schatkist en hebt een map met de locatie.\n",
        "\n",
        "Gebruik maak gebruik van loops om achter de exacte coordinaten te komen.\n",
        "\n",
        "Je mag if-else statements gebruiken.\n",
        "Je mag NIET de .isin() methode gebruiken."
      ],
      "metadata": {
        "id": "y_nUNxLj1Egv"
      }
    },
    {
      "cell_type": "code",
      "execution_count": 4,
      "metadata": {
        "colab": {
          "base_uri": "https://localhost:8080/"
        },
        "id": "97S_vHu2vOeA",
        "outputId": "8be71f28-8697-4abd-c56d-a2ead1c1f527"
      },
      "outputs": [
        {
          "output_type": "execute_result",
          "data": {
            "text/plain": [
              "[[' ', ' ', ' ', ' ', ' ', ' ', ' ', ' ', ' ', ' '],\n",
              " [' ', ' ', ' ', ' ', ' ', ' ', ' ', ' ', ' ', ' '],\n",
              " [' ', ' ', ' ', ' ', ' ', ' ', ' ', ' ', ' ', ' '],\n",
              " [' ', ' ', ' ', ' ', ' ', ' ', ' ', ' ', ' ', ' '],\n",
              " [' ', ' ', ' ', ' ', ' ', ' ', ' ', ' ', ' ', ' '],\n",
              " [' ', ' ', ' ', ' ', ' ', ' ', ' ', ' ', 'T', ' '],\n",
              " [' ', ' ', ' ', ' ', ' ', ' ', ' ', ' ', ' ', ' '],\n",
              " [' ', ' ', ' ', ' ', ' ', ' ', ' ', ' ', ' ', ' '],\n",
              " [' ', ' ', ' ', ' ', ' ', ' ', ' ', ' ', ' ', ' '],\n",
              " [' ', ' ', ' ', ' ', ' ', ' ', ' ', ' ', ' ', ' ']]"
            ]
          },
          "metadata": {},
          "execution_count": 4
        }
      ],
      "source": [
        "import random\n",
        "\n",
        "grid = [[' ' for _ in range(10)] for _ in range(10)]\n",
        "treasure_row, treasure_col = random.randint(0, 9), random.randint(0, 9)\n",
        "grid[treasure_row][treasure_col] = 'T'\n",
        "\n",
        "grid"
      ]
    },
    {
      "cell_type": "code",
      "source": [
        "y_counter = 0\n",
        "x_counter = 0\n",
        "coordinates = (0, 0)\n",
        "\n",
        "# jouw loop hier:\n",
        "\n",
        "\n",
        "\n",
        "\n",
        "\n",
        "\n",
        "\n",
        "\n",
        "\n",
        "print(coordinates)\n",
        "print(grid[coordinates[0]][coordinates[1]])"
      ],
      "metadata": {
        "colab": {
          "base_uri": "https://localhost:8080/"
        },
        "id": "uM87W8McyfCQ",
        "outputId": "99851d86-5659-4640-d3b9-2a96544a1117"
      },
      "execution_count": 55,
      "outputs": [
        {
          "output_type": "stream",
          "name": "stdout",
          "text": [
            "T\n",
            "(5, 8)\n",
            "T\n"
          ]
        }
      ]
    },
    {
      "cell_type": "markdown",
      "source": [
        "De docenten hebben een willekeurig wachtwoord aangemaakt om de antwoorden voor de volgende toets achter slot en grendel te zetten.\n",
        "\n",
        "\n",
        "Jij bent er echter achter gekomen dat het wachtwoord enkel uit 4 cijfers tussen 0 en 9 bestaat.\n",
        "\n",
        "Gebruik de volgende twee regels code en maak gebruik van loops om er achter te komen welke viertallige combinatie van cijfers overeenkomt met de variabele 'password'."
      ],
      "metadata": {
        "id": "SuAFEK-jAgzc"
      }
    },
    {
      "cell_type": "code",
      "source": [
        "password = str(random.randint(0, 9))+str(random.randint(0, 9))+str(random.randint(0, 9))+str(random.randint(0, 9))\n",
        "cijfers = list(range(0,10))\n",
        "\n",
        "print('het wachtwoord wat je moet vinden is:', password)\n",
        "\n",
        "# jouw code hier:\n"
      ],
      "metadata": {
        "colab": {
          "base_uri": "https://localhost:8080/"
        },
        "id": "OweTdDaH4n0u",
        "outputId": "39a97086-9119-4c7b-ed5c-648c18ff8635"
      },
      "execution_count": 50,
      "outputs": [
        {
          "output_type": "stream",
          "name": "stdout",
          "text": [
            "het wachtwoord wat je moet vinden is: 0362\n",
            "password is: 0362\n"
          ]
        }
      ]
    }
  ]
}