{
 "cells": [
  {
   "cell_type": "markdown",
   "metadata": {},
   "source": [
    "# Pandas: basisanalyse en draaitabellen\n",
    "- Voer onderstaande cel uit om het sf dataframe aan te maken. Hierin staan de verkopen en andere kenmerken van een winkelketen."
   ]
  },
  {
   "cell_type": "code",
   "execution_count": 2,
   "metadata": {},
   "outputs": [],
   "source": [
    "import pandas as pd\n",
    "sales = pd.read_csv('sales data-set.csv')\n",
    "features = pd.read_csv('Features data set.csv')\n",
    "sf = pd.merge(sales, features,  how='left', left_on=['Store','Date','IsHoliday'], right_on = ['Store','Date', 'IsHoliday'])\n",
    "sf['Date'] = pd.to_datetime(sales['Date'], dayfirst = True)"
   ]
  },
  {
   "cell_type": "markdown",
   "metadata": {},
   "source": [
    "## 1 Dataframe inspecteren\n",
    "- Welke zaken zijn belangrijk om te inspecteren aan een dataframe? Voer deze inspecties uit."
   ]
  },
  {
   "cell_type": "code",
   "execution_count": null,
   "metadata": {},
   "outputs": [],
   "source": [
    "\n"
   ]
  },
  {
   "cell_type": "code",
   "execution_count": null,
   "metadata": {},
   "outputs": [],
   "source": []
  },
  {
   "cell_type": "code",
   "execution_count": null,
   "metadata": {},
   "outputs": [],
   "source": []
  },
  {
   "cell_type": "markdown",
   "metadata": {},
   "source": [
    "##2 Tijdspanne en ' summary statistics'\n",
    "- Wat is verschil tussen de 'hoogste' datum en de 'laagste' datum."
   ]
  },
  {
   "cell_type": "code",
   "execution_count": null,
   "metadata": {},
   "outputs": [],
   "source": []
  },
  {
   "cell_type": "markdown",
   "metadata": {},
   "source": [
    "- Gebruik 1 regel code om het volgende te tonen: de mediaan, het minimum en het maximum van Weekly Sales, Unemployment, CPI en Temperature. \n",
    "- Hint: gebruik numpy en pas de agg() functie toe."
   ]
  },
  {
   "cell_type": "code",
   "execution_count": 6,
   "metadata": {},
   "outputs": [
    {
     "name": "stdout",
     "output_type": "stream",
     "text": [
      "        Weekly_Sales  Unemployment         CPI  Temperature\n",
      "min         -4988.94         3.879  126.064000        -2.06\n",
      "max        693099.36        14.313  227.232807       100.14\n",
      "median       7612.03         7.866  182.318780        62.09\n"
     ]
    },
    {
     "name": "stderr",
     "output_type": "stream",
     "text": [
      "C:\\Users\\zdrav\\AppData\\Local\\Temp\\ipykernel_19756\\1481973644.py:3: FutureWarning: The provided callable <function min at 0x00000218E4E3FCE0> is currently using Series.min. In a future version of pandas, the provided callable will be used directly. To keep current behavior pass the string \"min\" instead.\n",
      "  print(sf[['Weekly_Sales', 'Unemployment', 'CPI', 'Temperature']].agg([np.min,\n",
      "C:\\Users\\zdrav\\AppData\\Local\\Temp\\ipykernel_19756\\1481973644.py:3: FutureWarning: The provided callable <function max at 0x00000218E4E3FBA0> is currently using Series.max. In a future version of pandas, the provided callable will be used directly. To keep current behavior pass the string \"max\" instead.\n",
      "  print(sf[['Weekly_Sales', 'Unemployment', 'CPI', 'Temperature']].agg([np.min,\n",
      "C:\\Users\\zdrav\\AppData\\Local\\Temp\\ipykernel_19756\\1481973644.py:3: FutureWarning: The provided callable <function median at 0x00000218E4F6B2E0> is currently using Series.median. In a future version of pandas, the provided callable will be used directly. To keep current behavior pass the string \"median\" instead.\n",
      "  print(sf[['Weekly_Sales', 'Unemployment', 'CPI', 'Temperature']].agg([np.min,\n"
     ]
    }
   ],
   "source": [
    "#op toets\n",
    "\n"
   ]
  },
  {
   "cell_type": "markdown",
   "metadata": {},
   "source": [
    "## Cumulatieve statistiek\n",
    "\n",
    "- Maak een nieuw dataframe sf_2_14_2011 waarin alleen de rijen van afdeling (department) 14 van winkel (store) 2 in 2011 staan.\n",
    "- Maak een nieuw dataframe sf_ytd_2_14_2011 waarin de rijen uit sf_2_14_2011 zijn gesorteerd op datum (date) in oplopende volgorde.\n",
    "- YTD is een afkorting van 'Year-to-Date'. Wat betekent dit? Gebruik het Internet als je het antwoord niet weet.\n",
    "- Voeg de kolom YTD toe waarin de cumulatieve verkopen per week (Weekly Sales) staan.\n",
    "- Toon de volgende kolommen van sf_ytd_2_14_2011: Date, Weekly Sales en YTD.\n",
    "- Toon de som van 'Weekly Sales' in sf_ytd_2_14_2011. Komt dit overeen met de de laatste regel van sf_ytd_2_14_2011?"
   ]
  },
  {
   "cell_type": "code",
   "execution_count": 8,
   "metadata": {},
   "outputs": [
    {
     "name": "stdout",
     "output_type": "stream",
     "text": [
      "       Store  Dept       Date  Weekly_Sales  IsHoliday  Temperature  \\\n",
      "12151      2    14 2011-01-07      16916.65      False        44.69   \n",
      "12152      2    14 2011-01-14      16438.95      False        33.02   \n",
      "12153      2    14 2011-01-21      19331.36      False        41.40   \n",
      "12154      2    14 2011-01-28      20790.92      False        42.83   \n",
      "12155      2    14 2011-02-04      20956.14      False        38.25   \n",
      "12156      2    14 2011-02-11      24718.91       True        33.19   \n",
      "12157      2    14 2011-02-18      25035.76      False        57.83   \n",
      "12158      2    14 2011-02-25      18468.61      False        60.80   \n",
      "12159      2    14 2011-03-04      20675.84      False        57.77   \n",
      "12160      2    14 2011-03-11      20061.64      False        52.70   \n",
      "12161      2    14 2011-03-18      17797.70      False        62.32   \n",
      "12162      2    14 2011-03-25      15337.73      False        69.42   \n",
      "12163      2    14 2011-04-01      19893.39      False        55.43   \n",
      "12164      2    14 2011-04-08      17809.41      False        67.00   \n",
      "12165      2    14 2011-04-15      15774.00      False        69.48   \n",
      "12166      2    14 2011-04-22      16252.30      False        69.39   \n",
      "12167      2    14 2011-04-29      16214.02      False        69.21   \n",
      "12168      2    14 2011-05-06      20475.27      False        61.48   \n",
      "12169      2    14 2011-05-13      19521.67      False        74.61   \n",
      "12170      2    14 2011-05-20      17834.92      False        67.14   \n",
      "12171      2    14 2011-05-27      18223.68      False        76.42   \n",
      "12172      2    14 2011-06-03      18548.61      False        83.07   \n",
      "12173      2    14 2011-06-10      17394.06      False        83.40   \n",
      "12174      2    14 2011-06-17      17730.08      False        86.53   \n",
      "12175      2    14 2011-06-24      17780.68      False        85.17   \n",
      "12176      2    14 2011-07-01      18266.58      False        85.69   \n",
      "12177      2    14 2011-07-08      19241.44      False        87.70   \n",
      "12178      2    14 2011-07-15      16125.94      False        89.83   \n",
      "12179      2    14 2011-07-22      17949.03      False        89.34   \n",
      "12180      2    14 2011-07-29      15194.01      False        90.07   \n",
      "12181      2    14 2011-08-05      19150.57      False        93.34   \n",
      "12182      2    14 2011-08-12      16991.05      False        91.58   \n",
      "12183      2    14 2011-08-19      16320.30      False        89.86   \n",
      "12184      2    14 2011-08-26      16250.06      False        90.45   \n",
      "12185      2    14 2011-09-02      16404.21      False        89.64   \n",
      "12186      2    14 2011-09-09      17840.64       True        77.97   \n",
      "12187      2    14 2011-09-16      15101.08      False        78.85   \n",
      "12188      2    14 2011-09-23      16580.34      False        75.58   \n",
      "12189      2    14 2011-09-30      15396.74      False        78.14   \n",
      "12190      2    14 2011-10-07      16962.20      False        69.92   \n",
      "12191      2    14 2011-10-14      17825.09      False        71.67   \n",
      "12192      2    14 2011-10-21      18247.67      False        64.53   \n",
      "12193      2    14 2011-10-28      18521.60      False        65.87   \n",
      "12194      2    14 2011-11-04      19940.83      False        55.53   \n",
      "12195      2    14 2011-11-11      22006.37      False        59.33   \n",
      "12196      2    14 2011-11-18      25460.97      False        62.01   \n",
      "12197      2    14 2011-11-25      63334.00       True        56.36   \n",
      "12198      2    14 2011-12-02      26538.90      False        48.74   \n",
      "12199      2    14 2011-12-09      33026.41      False        41.76   \n",
      "12200      2    14 2011-12-16      40104.81      False        50.13   \n",
      "12201      2    14 2011-12-23      67053.47      False        46.66   \n",
      "12202      2    14 2011-12-30      30419.21       True        44.57   \n",
      "\n",
      "       Fuel_Price  MarkDown1  MarkDown2  MarkDown3  MarkDown4  MarkDown5  \\\n",
      "12151       2.976        NaN        NaN        NaN        NaN        NaN   \n",
      "12152       2.983        NaN        NaN        NaN        NaN        NaN   \n",
      "12153       3.016        NaN        NaN        NaN        NaN        NaN   \n",
      "12154       3.010        NaN        NaN        NaN        NaN        NaN   \n",
      "12155       2.989        NaN        NaN        NaN        NaN        NaN   \n",
      "12156       3.022        NaN        NaN        NaN        NaN        NaN   \n",
      "12157       3.045        NaN        NaN        NaN        NaN        NaN   \n",
      "12158       3.065        NaN        NaN        NaN        NaN        NaN   \n",
      "12159       3.288        NaN        NaN        NaN        NaN        NaN   \n",
      "12160       3.459        NaN        NaN        NaN        NaN        NaN   \n",
      "12161       3.488        NaN        NaN        NaN        NaN        NaN   \n",
      "12162       3.473        NaN        NaN        NaN        NaN        NaN   \n",
      "12163       3.524        NaN        NaN        NaN        NaN        NaN   \n",
      "12164       3.622        NaN        NaN        NaN        NaN        NaN   \n",
      "12165       3.743        NaN        NaN        NaN        NaN        NaN   \n",
      "12166       3.807        NaN        NaN        NaN        NaN        NaN   \n",
      "12167       3.810        NaN        NaN        NaN        NaN        NaN   \n",
      "12168       3.906        NaN        NaN        NaN        NaN        NaN   \n",
      "12169       3.899        NaN        NaN        NaN        NaN        NaN   \n",
      "12170       3.907        NaN        NaN        NaN        NaN        NaN   \n",
      "12171       3.786        NaN        NaN        NaN        NaN        NaN   \n",
      "12172       3.699        NaN        NaN        NaN        NaN        NaN   \n",
      "12173       3.648        NaN        NaN        NaN        NaN        NaN   \n",
      "12174       3.637        NaN        NaN        NaN        NaN        NaN   \n",
      "12175       3.594        NaN        NaN        NaN        NaN        NaN   \n",
      "12176       3.524        NaN        NaN        NaN        NaN        NaN   \n",
      "12177       3.480        NaN        NaN        NaN        NaN        NaN   \n",
      "12178       3.575        NaN        NaN        NaN        NaN        NaN   \n",
      "12179       3.651        NaN        NaN        NaN        NaN        NaN   \n",
      "12180       3.682        NaN        NaN        NaN        NaN        NaN   \n",
      "12181       3.684        NaN        NaN        NaN        NaN        NaN   \n",
      "12182       3.638        NaN        NaN        NaN        NaN        NaN   \n",
      "12183       3.554        NaN        NaN        NaN        NaN        NaN   \n",
      "12184       3.523        NaN        NaN        NaN        NaN        NaN   \n",
      "12185       3.533        NaN        NaN        NaN        NaN        NaN   \n",
      "12186       3.546        NaN        NaN        NaN        NaN        NaN   \n",
      "12187       3.526        NaN        NaN        NaN        NaN        NaN   \n",
      "12188       3.467        NaN        NaN        NaN        NaN        NaN   \n",
      "12189       3.355        NaN        NaN        NaN        NaN        NaN   \n",
      "12190       3.285        NaN        NaN        NaN        NaN        NaN   \n",
      "12191       3.274        NaN        NaN        NaN        NaN        NaN   \n",
      "12192       3.353        NaN        NaN        NaN        NaN        NaN   \n",
      "12193       3.372        NaN        NaN        NaN        NaN        NaN   \n",
      "12194       3.332        NaN        NaN        NaN        NaN        NaN   \n",
      "12195       3.297   10797.64   20445.00     443.32    4754.07    4787.16   \n",
      "12196       3.308    6490.92    1217.76     152.12     873.82    7656.42   \n",
      "12197       3.236     919.71      62.00   77451.26      23.00    1589.43   \n",
      "12198       3.172    8010.99      83.47    1897.27    4444.00   28238.93   \n",
      "12199       3.158   11472.59      40.00     306.43    4160.55    8899.08   \n",
      "12200       3.159    4908.83      61.03     341.49     469.80    4744.27   \n",
      "12201       3.112    2971.04      15.18    1501.75      88.76    6437.61   \n",
      "12202       3.129    8321.44   92523.94     139.53    1515.40    3027.69   \n",
      "\n",
      "              CPI  Unemployment  \n",
      "12151  211.064888         8.028  \n",
      "12152  211.117671         8.028  \n",
      "12153  211.486469         8.028  \n",
      "12154  211.855267         8.028  \n",
      "12155  212.224065         8.028  \n",
      "12156  212.592862         8.028  \n",
      "12157  212.903312         8.028  \n",
      "12158  213.190421         8.028  \n",
      "12159  213.477531         8.028  \n",
      "12160  213.764640         8.028  \n",
      "12161  214.015624         8.028  \n",
      "12162  214.252157         8.028  \n",
      "12163  214.488691         7.931  \n",
      "12164  214.725224         7.931  \n",
      "12165  214.942063         7.931  \n",
      "12166  215.109666         7.931  \n",
      "12167  215.277268         7.931  \n",
      "12168  215.444871         7.931  \n",
      "12169  215.612473         7.931  \n",
      "12170  215.383478         7.931  \n",
      "12171  215.154482         7.931  \n",
      "12172  214.925487         7.931  \n",
      "12173  214.696491         7.931  \n",
      "12174  214.651354         7.931  \n",
      "12175  214.744111         7.931  \n",
      "12176  214.836868         7.852  \n",
      "12177  214.929625         7.852  \n",
      "12178  215.013443         7.852  \n",
      "12179  215.074912         7.852  \n",
      "12180  215.136382         7.852  \n",
      "12181  215.197852         7.852  \n",
      "12182  215.259321         7.852  \n",
      "12183  215.322931         7.852  \n",
      "12184  215.386897         7.852  \n",
      "12185  215.450863         7.852  \n",
      "12186  215.514829         7.852  \n",
      "12187  215.694438         7.852  \n",
      "12188  216.028236         7.852  \n",
      "12189  216.362033         7.852  \n",
      "12190  216.695831         7.441  \n",
      "12191  217.004826         7.441  \n",
      "12192  217.165004         7.441  \n",
      "12193  217.325182         7.441  \n",
      "12194  217.485361         7.441  \n",
      "12195  217.645539         7.441  \n",
      "12196  217.867022         7.441  \n",
      "12197  218.113027         7.441  \n",
      "12198  218.359032         7.441  \n",
      "12199  218.605037         7.441  \n",
      "12200  218.821793         7.441  \n",
      "12201  218.999550         7.441  \n",
      "12202  219.177306         7.441  \n",
      "het totaal sales is 1106235.82\n"
     ]
    }
   ],
   "source": []
  },
  {
   "cell_type": "markdown",
   "metadata": {},
   "source": [
    "## 4 Ontdubbelen en tellen\n",
    "- Voeg de kolom 'Year' toe aan sf. Gebruik hiervoor de dt method."
   ]
  },
  {
   "cell_type": "code",
   "execution_count": 10,
   "metadata": {},
   "outputs": [
    {
     "data": {
      "text/plain": [
       "0         2010\n",
       "1         2010\n",
       "2         2010\n",
       "3         2010\n",
       "4         2010\n",
       "          ... \n",
       "421565    2012\n",
       "421566    2012\n",
       "421567    2012\n",
       "421568    2012\n",
       "421569    2012\n",
       "Name: Year, Length: 421570, dtype: int32"
      ]
     },
     "execution_count": 10,
     "metadata": {},
     "output_type": "execute_result"
    }
   ],
   "source": []
  },
  {
   "cell_type": "markdown",
   "metadata": {},
   "source": [
    "- Maak het nieuwe dataframe stores_year aan waarin de dubbele rijen met dezelfde combinatie van jaar (year) en winkel (store) zijn verwijderd. Als resultaat komt iedere winkel nog maar 1 keer voor per jaar.\n",
    "- Toon het aantal winkels per jaar.\n",
    "- Waarom is het belangrijk om te controleren dat er in ieder jaar evenveel winkels zijn?"
   ]
  },
  {
   "cell_type": "code",
   "execution_count": 12,
   "metadata": {},
   "outputs": [
    {
     "data": {
      "text/html": [
       "<div>\n",
       "<style scoped>\n",
       "    .dataframe tbody tr th:only-of-type {\n",
       "        vertical-align: middle;\n",
       "    }\n",
       "\n",
       "    .dataframe tbody tr th {\n",
       "        vertical-align: top;\n",
       "    }\n",
       "\n",
       "    .dataframe thead th {\n",
       "        text-align: right;\n",
       "    }\n",
       "</style>\n",
       "<table border=\"1\" class=\"dataframe\">\n",
       "  <thead>\n",
       "    <tr style=\"text-align: right;\">\n",
       "      <th></th>\n",
       "      <th>Year</th>\n",
       "      <th>Store</th>\n",
       "    </tr>\n",
       "  </thead>\n",
       "  <tbody>\n",
       "    <tr>\n",
       "      <th>412033</th>\n",
       "      <td>2012</td>\n",
       "      <td>45</td>\n",
       "    </tr>\n",
       "    <tr>\n",
       "      <th>256855</th>\n",
       "      <td>2012</td>\n",
       "      <td>27</td>\n",
       "    </tr>\n",
       "    <tr>\n",
       "      <th>78757</th>\n",
       "      <td>2012</td>\n",
       "      <td>9</td>\n",
       "    </tr>\n",
       "    <tr>\n",
       "      <th>340387</th>\n",
       "      <td>2012</td>\n",
       "      <td>36</td>\n",
       "    </tr>\n",
       "    <tr>\n",
       "      <th>87624</th>\n",
       "      <td>2012</td>\n",
       "      <td>10</td>\n",
       "    </tr>\n",
       "  </tbody>\n",
       "</table>\n",
       "</div>"
      ],
      "text/plain": [
       "        Year  Store\n",
       "412033  2012     45\n",
       "256855  2012     27\n",
       "78757   2012      9\n",
       "340387  2012     36\n",
       "87624   2012     10"
      ]
     },
     "metadata": {},
     "output_type": "display_data"
    }
   ],
   "source": []
  },
  {
   "cell_type": "markdown",
   "metadata": {},
   "source": [
    "## 5 Groeperen en rekenen: groupby()\n",
    "- Print de totale omzet (weekly sales) per jaar in sf. \n",
    "- Wat was het beste jaar?"
   ]
  },
  {
   "cell_type": "code",
   "execution_count": 14,
   "metadata": {},
   "outputs": [
    {
     "data": {
      "text/html": [
       "<div>\n",
       "<style scoped>\n",
       "    .dataframe tbody tr th:only-of-type {\n",
       "        vertical-align: middle;\n",
       "    }\n",
       "\n",
       "    .dataframe tbody tr th {\n",
       "        vertical-align: top;\n",
       "    }\n",
       "\n",
       "    .dataframe thead th {\n",
       "        text-align: right;\n",
       "    }\n",
       "</style>\n",
       "<table border=\"1\" class=\"dataframe\">\n",
       "  <thead>\n",
       "    <tr style=\"text-align: right;\">\n",
       "      <th></th>\n",
       "      <th>Weekly_Sales</th>\n",
       "    </tr>\n",
       "    <tr>\n",
       "      <th>Year</th>\n",
       "      <th></th>\n",
       "    </tr>\n",
       "  </thead>\n",
       "  <tbody>\n",
       "    <tr>\n",
       "      <th>2010</th>\n",
       "      <td>2.288886e+09</td>\n",
       "    </tr>\n",
       "    <tr>\n",
       "      <th>2011</th>\n",
       "      <td>2.448200e+09</td>\n",
       "    </tr>\n",
       "    <tr>\n",
       "      <th>2012</th>\n",
       "      <td>2.000133e+09</td>\n",
       "    </tr>\n",
       "  </tbody>\n",
       "</table>\n",
       "</div>"
      ],
      "text/plain": [
       "      Weekly_Sales\n",
       "Year              \n",
       "2010  2.288886e+09\n",
       "2011  2.448200e+09\n",
       "2012  2.000133e+09"
      ]
     },
     "execution_count": 14,
     "metadata": {},
     "output_type": "execute_result"
    }
   ],
   "source": [
    "#! op toets\n",
    "\n"
   ]
  },
  {
   "cell_type": "markdown",
   "metadata": {},
   "source": [
    "## 5 Groeperen en rekenen: groupby() & agg()\n",
    "\n",
    "- Gebruik 1 regel code om het dataframe mean_stats aan te maken met daarin de totalen en de gemiddeldes per jaar van de volgende kolommen:\n",
    "    - Weekly_Sales (omzet)\n",
    "    - Unemployment\n",
    "    - Temperature\n",
    "    - CPI\n",
    "- Vergelijk de gemiddelde omzet en de totale omzet per jaar. Wat valt je op? Wat kan dit hebben veroorzaakt?"
   ]
  },
  {
   "cell_type": "code",
   "execution_count": 16,
   "metadata": {},
   "outputs": [
    {
     "name": "stderr",
     "output_type": "stream",
     "text": [
      "C:\\Users\\zdrav\\AppData\\Local\\Temp\\ipykernel_19756\\73370432.py:1: FutureWarning: The provided callable <function mean at 0x00000218E4E445E0> is currently using SeriesGroupBy.mean. In a future version of pandas, the provided callable will be used directly. To keep current behavior pass the string \"mean\" instead.\n",
      "  mean_stats = sf.groupby('Year')[['Weekly_Sales', 'Unemployment', 'Temperature', 'CPI']].agg([np.mean, np.sum])\n",
      "C:\\Users\\zdrav\\AppData\\Local\\Temp\\ipykernel_19756\\73370432.py:1: FutureWarning: The provided callable <function sum at 0x00000218E4E3F4C0> is currently using SeriesGroupBy.sum. In a future version of pandas, the provided callable will be used directly. To keep current behavior pass the string \"sum\" instead.\n",
      "  mean_stats = sf.groupby('Year')[['Weekly_Sales', 'Unemployment', 'Temperature', 'CPI']].agg([np.mean, np.sum])\n"
     ]
    },
    {
     "data": {
      "text/html": [
       "<div>\n",
       "<style scoped>\n",
       "    .dataframe tbody tr th:only-of-type {\n",
       "        vertical-align: middle;\n",
       "    }\n",
       "\n",
       "    .dataframe tbody tr th {\n",
       "        vertical-align: top;\n",
       "    }\n",
       "\n",
       "    .dataframe thead tr th {\n",
       "        text-align: left;\n",
       "    }\n",
       "\n",
       "    .dataframe thead tr:last-of-type th {\n",
       "        text-align: right;\n",
       "    }\n",
       "</style>\n",
       "<table border=\"1\" class=\"dataframe\">\n",
       "  <thead>\n",
       "    <tr>\n",
       "      <th></th>\n",
       "      <th colspan=\"2\" halign=\"left\">Weekly_Sales</th>\n",
       "      <th colspan=\"2\" halign=\"left\">Unemployment</th>\n",
       "      <th colspan=\"2\" halign=\"left\">Temperature</th>\n",
       "      <th colspan=\"2\" halign=\"left\">CPI</th>\n",
       "    </tr>\n",
       "    <tr>\n",
       "      <th></th>\n",
       "      <th>mean</th>\n",
       "      <th>sum</th>\n",
       "      <th>mean</th>\n",
       "      <th>sum</th>\n",
       "      <th>mean</th>\n",
       "      <th>sum</th>\n",
       "      <th>mean</th>\n",
       "      <th>sum</th>\n",
       "    </tr>\n",
       "    <tr>\n",
       "      <th>Year</th>\n",
       "      <th></th>\n",
       "      <th></th>\n",
       "      <th></th>\n",
       "      <th></th>\n",
       "      <th></th>\n",
       "      <th></th>\n",
       "      <th></th>\n",
       "      <th></th>\n",
       "    </tr>\n",
       "  </thead>\n",
       "  <tbody>\n",
       "    <tr>\n",
       "      <th>2010</th>\n",
       "      <td>16270.275737</td>\n",
       "      <td>2.288886e+09</td>\n",
       "      <td>8.446427</td>\n",
       "      <td>1188234.968</td>\n",
       "      <td>59.659916</td>\n",
       "      <td>8392897.33</td>\n",
       "      <td>167.727885</td>\n",
       "      <td>2.359579e+07</td>\n",
       "    </tr>\n",
       "    <tr>\n",
       "      <th>2011</th>\n",
       "      <td>15954.070675</td>\n",
       "      <td>2.448200e+09</td>\n",
       "      <td>8.036353</td>\n",
       "      <td>1233202.496</td>\n",
       "      <td>58.220745</td>\n",
       "      <td>8934147.95</td>\n",
       "      <td>171.181195</td>\n",
       "      <td>2.626827e+07</td>\n",
       "    </tr>\n",
       "    <tr>\n",
       "      <th>2012</th>\n",
       "      <td>15694.948597</td>\n",
       "      <td>2.000133e+09</td>\n",
       "      <td>7.332047</td>\n",
       "      <td>934381.441</td>\n",
       "      <td>62.815807</td>\n",
       "      <td>8005120.78</td>\n",
       "      <td>175.061958</td>\n",
       "      <td>2.230955e+07</td>\n",
       "    </tr>\n",
       "  </tbody>\n",
       "</table>\n",
       "</div>"
      ],
      "text/plain": [
       "      Weekly_Sales               Unemployment              Temperature  \\\n",
       "              mean           sum         mean          sum        mean   \n",
       "Year                                                                     \n",
       "2010  16270.275737  2.288886e+09     8.446427  1188234.968   59.659916   \n",
       "2011  15954.070675  2.448200e+09     8.036353  1233202.496   58.220745   \n",
       "2012  15694.948597  2.000133e+09     7.332047   934381.441   62.815807   \n",
       "\n",
       "                         CPI                \n",
       "             sum        mean           sum  \n",
       "Year                                        \n",
       "2010  8392897.33  167.727885  2.359579e+07  \n",
       "2011  8934147.95  171.181195  2.626827e+07  \n",
       "2012  8005120.78  175.061958  2.230955e+07  "
      ]
     },
     "metadata": {},
     "output_type": "display_data"
    }
   ],
   "source": []
  },
  {
   "cell_type": "markdown",
   "metadata": {},
   "source": [
    "- Bepaal het aantal weken per jaar.\n",
    "- Verklaart dit de discrepantie die je opmerkte bij de vorige vraag?"
   ]
  },
  {
   "cell_type": "code",
   "execution_count": 18,
   "metadata": {},
   "outputs": [
    {
     "data": {
      "text/html": [
       "<div>\n",
       "<style scoped>\n",
       "    .dataframe tbody tr th:only-of-type {\n",
       "        vertical-align: middle;\n",
       "    }\n",
       "\n",
       "    .dataframe tbody tr th {\n",
       "        vertical-align: top;\n",
       "    }\n",
       "\n",
       "    .dataframe thead th {\n",
       "        text-align: right;\n",
       "    }\n",
       "</style>\n",
       "<table border=\"1\" class=\"dataframe\">\n",
       "  <thead>\n",
       "    <tr style=\"text-align: right;\">\n",
       "      <th></th>\n",
       "      <th>Year</th>\n",
       "      <th>Date</th>\n",
       "    </tr>\n",
       "  </thead>\n",
       "  <tbody>\n",
       "    <tr>\n",
       "      <th>0</th>\n",
       "      <td>2010</td>\n",
       "      <td>2010-02-05</td>\n",
       "    </tr>\n",
       "    <tr>\n",
       "      <th>1</th>\n",
       "      <td>2010</td>\n",
       "      <td>2010-02-12</td>\n",
       "    </tr>\n",
       "    <tr>\n",
       "      <th>2</th>\n",
       "      <td>2010</td>\n",
       "      <td>2010-02-19</td>\n",
       "    </tr>\n",
       "    <tr>\n",
       "      <th>3</th>\n",
       "      <td>2010</td>\n",
       "      <td>2010-02-26</td>\n",
       "    </tr>\n",
       "    <tr>\n",
       "      <th>4</th>\n",
       "      <td>2010</td>\n",
       "      <td>2010-03-05</td>\n",
       "    </tr>\n",
       "  </tbody>\n",
       "</table>\n",
       "</div>"
      ],
      "text/plain": [
       "   Year       Date\n",
       "0  2010 2010-02-05\n",
       "1  2010 2010-02-12\n",
       "2  2010 2010-02-19\n",
       "3  2010 2010-02-26\n",
       "4  2010 2010-03-05"
      ]
     },
     "metadata": {},
     "output_type": "display_data"
    },
    {
     "data": {
      "text/plain": [
       "Year\n",
       "2011    52\n",
       "2010    48\n",
       "2012    43\n",
       "Name: count, dtype: int64"
      ]
     },
     "metadata": {},
     "output_type": "display_data"
    }
   ],
   "source": []
  },
  {
   "cell_type": "markdown",
   "metadata": {},
   "source": [
    "## 7 Draaitabel indicatoren\n",
    "Belangrijke indicatoren voor een winkelketen zijn werkloosheid (unemployment), Consumenten Prijs Index (CPI) en de benzineprijs (fuel price). Deze indicatoren kunnen mogelijk de omzet beinvloeden.\n",
    "\n",
    "- Maak een draaitabel sf_piv waarin je de gemiddelde werkloosheid, CPI, benzineprijs en omzet per jaar toont.\n",
    "- Toon ook een regel waarin je de totale gemiddeldes toont."
   ]
  },
  {
   "cell_type": "code",
   "execution_count": 20,
   "metadata": {},
   "outputs": [
    {
     "name": "stderr",
     "output_type": "stream",
     "text": [
      "C:\\Users\\zdrav\\AppData\\Local\\Temp\\ipykernel_19756\\3799193476.py:3: FutureWarning: The provided callable <function mean at 0x00000218E4E445E0> is currently using DataFrameGroupBy.mean. In a future version of pandas, the provided callable will be used directly. To keep current behavior pass the string \"mean\" instead.\n",
      "  sf_piv = sf.pivot_table(values=['Unemployment','CPI','Fuel_Price', 'Weekly_Sales'] ,index='Year', aggfunc=np.mean, margins=True)\n"
     ]
    },
    {
     "data": {
      "text/html": [
       "<div>\n",
       "<style scoped>\n",
       "    .dataframe tbody tr th:only-of-type {\n",
       "        vertical-align: middle;\n",
       "    }\n",
       "\n",
       "    .dataframe tbody tr th {\n",
       "        vertical-align: top;\n",
       "    }\n",
       "\n",
       "    .dataframe thead th {\n",
       "        text-align: right;\n",
       "    }\n",
       "</style>\n",
       "<table border=\"1\" class=\"dataframe\">\n",
       "  <thead>\n",
       "    <tr style=\"text-align: right;\">\n",
       "      <th></th>\n",
       "      <th>CPI</th>\n",
       "      <th>Fuel_Price</th>\n",
       "      <th>Unemployment</th>\n",
       "      <th>Weekly_Sales</th>\n",
       "    </tr>\n",
       "    <tr>\n",
       "      <th>Year</th>\n",
       "      <th></th>\n",
       "      <th></th>\n",
       "      <th></th>\n",
       "      <th></th>\n",
       "    </tr>\n",
       "  </thead>\n",
       "  <tbody>\n",
       "    <tr>\n",
       "      <th>2010</th>\n",
       "      <td>167.727885</td>\n",
       "      <td>2.823858</td>\n",
       "      <td>8.446427</td>\n",
       "      <td>16270.275737</td>\n",
       "    </tr>\n",
       "    <tr>\n",
       "      <th>2011</th>\n",
       "      <td>171.181195</td>\n",
       "      <td>3.563353</td>\n",
       "      <td>8.036353</td>\n",
       "      <td>15954.070675</td>\n",
       "    </tr>\n",
       "    <tr>\n",
       "      <th>2012</th>\n",
       "      <td>175.061958</td>\n",
       "      <td>3.710378</td>\n",
       "      <td>7.332047</td>\n",
       "      <td>15694.948597</td>\n",
       "    </tr>\n",
       "    <tr>\n",
       "      <th>All</th>\n",
       "      <td>171.201947</td>\n",
       "      <td>3.361027</td>\n",
       "      <td>7.960289</td>\n",
       "      <td>15981.258123</td>\n",
       "    </tr>\n",
       "  </tbody>\n",
       "</table>\n",
       "</div>"
      ],
      "text/plain": [
       "             CPI  Fuel_Price  Unemployment  Weekly_Sales\n",
       "Year                                                    \n",
       "2010  167.727885    2.823858      8.446427  16270.275737\n",
       "2011  171.181195    3.563353      8.036353  15954.070675\n",
       "2012  175.061958    3.710378      7.332047  15694.948597\n",
       "All   171.201947    3.361027      7.960289  15981.258123"
      ]
     },
     "metadata": {},
     "output_type": "display_data"
    }
   ],
   "source": [
    "import numpy as pd \n",
    "\n"
   ]
  },
  {
   "cell_type": "markdown",
   "metadata": {},
   "source": [
    "## 8 Draaitabel temperatuur\n",
    "- Maak een dataframe sf_2010 waarin je alleen de regels uit 2010 toont.\n",
    "- Maak de draaitabel sf_2010_piv waarin je alleen de rijen uit sf_2010 opneemt die GEEN vakantieweek (IsHoliday) zijn. De draaitabel toont de gemiddelde temperatuur en de gemiddelde omzet per winkel.\n",
    "- Sorteer de draaitabel in aflopende volgorde op temperatuur."
   ]
  },
  {
   "cell_type": "code",
   "execution_count": null,
   "metadata": {},
   "outputs": [],
   "source": []
  }
 ],
 "metadata": {
  "kernelspec": {
   "display_name": "Python 3 (ipykernel)",
   "language": "python",
   "name": "python3"
  },
  "language_info": {
   "codemirror_mode": {
    "name": "ipython",
    "version": 3
   },
   "file_extension": ".py",
   "mimetype": "text/x-python",
   "name": "python",
   "nbconvert_exporter": "python",
   "pygments_lexer": "ipython3",
   "version": "3.12.4"
  }
 },
 "nbformat": 4,
 "nbformat_minor": 4
}
