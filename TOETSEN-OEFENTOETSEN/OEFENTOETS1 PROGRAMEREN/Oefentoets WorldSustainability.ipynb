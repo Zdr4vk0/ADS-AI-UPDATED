{
 "cells": [
  {
   "cell_type": "code",
   "execution_count": 1,
   "metadata": {},
   "outputs": [
    {
     "name": "stdout",
     "output_type": "stream",
     "text": [
      "conda 23.7.2\n",
      "6.5.4\n",
      "Python 3.11.4\n",
      "2.4.2\n"
     ]
    }
   ],
   "source": [
    "#Verander niets en voer onderstaande cel uit\n",
    "import pandas as pd\n",
    "import numpy as np\n",
    "#dataframe:\n",
    "df = pd.read_csv('WorldSustainabilityDataset.csv')\n",
    "countries = list(df['Country Name'].unique())\n",
    "electricity_access = list(df['Access to electricity (% of population) - EG.ELC.ACCS.ZS'])\n",
    "carbon_emissions = list(df['Annual production-based emissions of carbon dioxide (CO2), measured in million tonnes'])\n",
    "\n",
    "electricity_access_np = df[['Country Name', 'Access to electricity (% of population) - EG.ELC.ACCS.ZS']].values\n",
    "st = {country: {'electricity_access': ea, 'carbon_emissions': ce} for country, ea, ce in zip(countries, electricity_access, carbon_emissions)}\n",
    "# Filter valid countries and carbon emissions\n",
    "valid_countries_co2 = [(country, ce) for country, ce in zip(countries, carbon_emissions) if not np.isnan(ce)]\n",
    "electricity_access_np = df[['Country Name', 'Access to electricity (% of population) - EG.ELC.ACCS.ZS']].values\n",
    "# Split into separate lists\n",
    "valid_countries, valid_carbon_emissions = zip(*valid_countries_co2)\n",
    "\n",
    "\n",
    "valid_countries1 = list(valid_countries)\n",
    "valid_carbon_emissions1 = list(valid_carbon_emissions)\n",
    "!conda --version\n",
    "!jupyter notebook --version\n",
    "!python --version\n",
    "!anaconda-navigator --version"
   ]
  },
  {
   "cell_type": "code",
   "execution_count": null,
   "metadata": {},
   "outputs": [],
   "source": [
    "#1.1)\n",
    "countriesU = valid_countries1 + ['Groenland'] \n",
    "if 'Groenland' in countriesU:\n",
    "    print(f'Groenland zit in de lijst')\n",
    "    "
   ]
  },
  {
   "cell_type": "code",
   "execution_count": 15,
   "metadata": {},
   "outputs": [
    {
     "data": {
      "text/plain": [
       "173"
      ]
     },
     "metadata": {},
     "output_type": "display_data"
    }
   ],
   "source": [
    "#1.2\n",
    "df = pd.DataFrame(valid_countries1).drop_duplicates()\n",
    "display(df.shape[0])\n",
    "\n",
    "#1.3\n"
   ]
  },
  {
   "cell_type": "code",
   "execution_count": null,
   "metadata": {},
   "outputs": [],
   "source": [
    "#2.1)\n",
    "median = np.median(electricity_access_np[:, 1])\n",
    "print(median)\n",
    "#2.2)\n",
    "print(electricity_access_np[electricity_access_np[:, 1] > median])"
   ]
  },
  {
   "cell_type": "code",
   "execution_count": null,
   "metadata": {},
   "outputs": [],
   "source": [
    "#3a\n",
    "st['Aruba']['electricity_access'] = 99.5\n",
    "st['Aruba']['electricity_access'] \n",
    "#3b\n",
    "print(st['Aruba']['carbon_emissions'])"
   ]
  },
  {
   "cell_type": "code",
   "execution_count": null,
   "metadata": {},
   "outputs": [],
   "source": [
    "#4.1\n",
    "crit1 = df['Country Name'].isin([]'China', 'India'])"
   ]
  },
  {
   "cell_type": "code",
   "execution_count": null,
   "metadata": {},
   "outputs": [],
   "source": [
    "#4b\n"
   ]
  }
 ],
 "metadata": {
  "kernelspec": {
   "display_name": "Python 3 (ipykernel)",
   "language": "python",
   "name": "python3"
  },
  "language_info": {
   "codemirror_mode": {
    "name": "ipython",
    "version": 3
   },
   "file_extension": ".py",
   "mimetype": "text/x-python",
   "name": "python",
   "nbconvert_exporter": "python",
   "pygments_lexer": "ipython3",
   "version": "3.11.4"
  }
 },
 "nbformat": 4,
 "nbformat_minor": 4
}
