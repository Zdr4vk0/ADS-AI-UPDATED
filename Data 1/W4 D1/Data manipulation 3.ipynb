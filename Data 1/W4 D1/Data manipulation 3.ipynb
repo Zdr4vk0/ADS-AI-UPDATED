{
 "cells": [
  {
   "cell_type": "markdown",
   "id": "afc46cd9",
   "metadata": {},
   "source": [
    "## Data analyse\n",
    "In de vorige lessen heb je al een aantal keer geoefend met data-analyse. In deze opdracht bouwen we hierop verder. Er zijn vaak meerdere manieren om iets op te lossen en niet alle oplossingen zijn behandeld in de datacamps. Je zult dit keer ook zelf onderzoek moeten doen naar mogelijke oplossingen."
   ]
  },
  {
   "cell_type": "markdown",
   "id": "1306cef7",
   "metadata": {},
   "source": [
    "### 1 Laden bestand\n",
    "1.\tSchrijf een stuk code waarin je 'onderwijs_uitgave.xlsx' als dataframe inleest. **Let op:** in het Excel bestand worden missende waardes (na_values) aangeduid met '.'. Bekijk de de Pandas documentatie (https://pandas.pydata.org/docs/index.html) van de functie waarmee je een Excelbestand kan inlezen om te bepalen hoe je hiermee omgaat.\n",
    "2. Laat zien welke unieke types van uitgaven en welke types onderwijs er zijn.\n"
   ]
  },
  {
   "cell_type": "code",
   "execution_count": 42,
   "id": "458a0825",
   "metadata": {
    "ExecuteTime": {
     "end_time": "2022-10-05T11:42:32.256004Z",
     "start_time": "2022-10-05T11:42:32.173328Z"
    }
   },
   "outputs": [
    {
     "data": {
      "text/plain": [
       "Secundair onderwijs|Voortgezet onderwijs                         238\n",
       "Secundair onderwijs|Middelbaar beroepsonderwijs en volw.ed.      238\n",
       "Tertiair onderwijs|Hoger beroepsonderwijs                        238\n",
       "Tertiair onderwijs|Wetenschappelijk onderwijs                    238\n",
       "(Pre)primair onderwijs|Preprimair onderwijs en basisonderwijs    119\n",
       "(Pre)primair onderwijs|Speciaal (basis)onderwijs                 119\n",
       "Name: Type onderwijs, dtype: int64"
      ]
     },
     "metadata": {},
     "output_type": "display_data"
    },
    {
     "data": {
      "text/html": [
       "<div>\n",
       "<style scoped>\n",
       "    .dataframe tbody tr th:only-of-type {\n",
       "        vertical-align: middle;\n",
       "    }\n",
       "\n",
       "    .dataframe tbody tr th {\n",
       "        vertical-align: top;\n",
       "    }\n",
       "\n",
       "    .dataframe thead th {\n",
       "        text-align: right;\n",
       "    }\n",
       "</style>\n",
       "<table border=\"1\" class=\"dataframe\">\n",
       "  <thead>\n",
       "    <tr style=\"text-align: right;\">\n",
       "      <th></th>\n",
       "      <th>Perioden</th>\n",
       "      <th>Type uitgave</th>\n",
       "      <th>Type onderwijs</th>\n",
       "      <th>Waarde</th>\n",
       "    </tr>\n",
       "  </thead>\n",
       "  <tbody>\n",
       "    <tr>\n",
       "      <th>0</th>\n",
       "      <td>1900</td>\n",
       "      <td>Overheidsuitgaven aan onderwijs</td>\n",
       "      <td>(Pre)primair onderwijs|Preprimair onderwijs en...</td>\n",
       "      <td>7.0</td>\n",
       "    </tr>\n",
       "    <tr>\n",
       "      <th>1</th>\n",
       "      <td>1900</td>\n",
       "      <td>Overheidsuitgaven aan onderwijs</td>\n",
       "      <td>(Pre)primair onderwijs|Speciaal (basis)onderwijs</td>\n",
       "      <td>NaN</td>\n",
       "    </tr>\n",
       "    <tr>\n",
       "      <th>2</th>\n",
       "      <td>1900</td>\n",
       "      <td>Overheidsuitgaven aan onderwijs</td>\n",
       "      <td>Secundair onderwijs|Voortgezet onderwijs</td>\n",
       "      <td>2.0</td>\n",
       "    </tr>\n",
       "    <tr>\n",
       "      <th>3</th>\n",
       "      <td>1900</td>\n",
       "      <td>Overheidsuitgaven aan onderwijs</td>\n",
       "      <td>Secundair onderwijs|Middelbaar beroepsonderwij...</td>\n",
       "      <td>0.0</td>\n",
       "    </tr>\n",
       "    <tr>\n",
       "      <th>4</th>\n",
       "      <td>1900</td>\n",
       "      <td>Overheidsuitgaven aan onderwijs</td>\n",
       "      <td>Tertiair onderwijs|Hoger beroepsonderwijs</td>\n",
       "      <td>1.0</td>\n",
       "    </tr>\n",
       "    <tr>\n",
       "      <th>...</th>\n",
       "      <td>...</td>\n",
       "      <td>...</td>\n",
       "      <td>...</td>\n",
       "      <td>...</td>\n",
       "    </tr>\n",
       "    <tr>\n",
       "      <th>1185</th>\n",
       "      <td>2018</td>\n",
       "      <td>Overheidsuitgaven aan onderwijs</td>\n",
       "      <td>Tertiair onderwijs|Wetenschappelijk onderwijs</td>\n",
       "      <td>5472.0</td>\n",
       "    </tr>\n",
       "    <tr>\n",
       "      <th>1186</th>\n",
       "      <td>2018</td>\n",
       "      <td>Overheidsuitgaven aan studietoelagen</td>\n",
       "      <td>Secundair onderwijs|Voortgezet onderwijs</td>\n",
       "      <td>74.0</td>\n",
       "    </tr>\n",
       "    <tr>\n",
       "      <th>1187</th>\n",
       "      <td>2018</td>\n",
       "      <td>Overheidsuitgaven aan studietoelagen</td>\n",
       "      <td>Secundair onderwijs|Middelbaar beroepsonderwij...</td>\n",
       "      <td>1699.0</td>\n",
       "    </tr>\n",
       "    <tr>\n",
       "      <th>1188</th>\n",
       "      <td>2018</td>\n",
       "      <td>Overheidsuitgaven aan studietoelagen</td>\n",
       "      <td>Tertiair onderwijs|Hoger beroepsonderwijs</td>\n",
       "      <td>2810.0</td>\n",
       "    </tr>\n",
       "    <tr>\n",
       "      <th>1189</th>\n",
       "      <td>2018</td>\n",
       "      <td>Overheidsuitgaven aan studietoelagen</td>\n",
       "      <td>Tertiair onderwijs|Wetenschappelijk onderwijs</td>\n",
       "      <td>1579.0</td>\n",
       "    </tr>\n",
       "  </tbody>\n",
       "</table>\n",
       "<p>1190 rows × 4 columns</p>\n",
       "</div>"
      ],
      "text/plain": [
       "      Perioden                          Type uitgave  \\\n",
       "0         1900       Overheidsuitgaven aan onderwijs   \n",
       "1         1900       Overheidsuitgaven aan onderwijs   \n",
       "2         1900       Overheidsuitgaven aan onderwijs   \n",
       "3         1900       Overheidsuitgaven aan onderwijs   \n",
       "4         1900       Overheidsuitgaven aan onderwijs   \n",
       "...        ...                                   ...   \n",
       "1185      2018       Overheidsuitgaven aan onderwijs   \n",
       "1186      2018  Overheidsuitgaven aan studietoelagen   \n",
       "1187      2018  Overheidsuitgaven aan studietoelagen   \n",
       "1188      2018  Overheidsuitgaven aan studietoelagen   \n",
       "1189      2018  Overheidsuitgaven aan studietoelagen   \n",
       "\n",
       "                                         Type onderwijs  Waarde  \n",
       "0     (Pre)primair onderwijs|Preprimair onderwijs en...     7.0  \n",
       "1      (Pre)primair onderwijs|Speciaal (basis)onderwijs     NaN  \n",
       "2              Secundair onderwijs|Voortgezet onderwijs     2.0  \n",
       "3     Secundair onderwijs|Middelbaar beroepsonderwij...     0.0  \n",
       "4             Tertiair onderwijs|Hoger beroepsonderwijs     1.0  \n",
       "...                                                 ...     ...  \n",
       "1185      Tertiair onderwijs|Wetenschappelijk onderwijs  5472.0  \n",
       "1186           Secundair onderwijs|Voortgezet onderwijs    74.0  \n",
       "1187  Secundair onderwijs|Middelbaar beroepsonderwij...  1699.0  \n",
       "1188          Tertiair onderwijs|Hoger beroepsonderwijs  2810.0  \n",
       "1189      Tertiair onderwijs|Wetenschappelijk onderwijs  1579.0  \n",
       "\n",
       "[1190 rows x 4 columns]"
      ]
     },
     "execution_count": 42,
     "metadata": {},
     "output_type": "execute_result"
    }
   ],
   "source": [
    "import pandas as pd\n",
    "import numpy as np\n",
    "df = pd.read_excel('onderwijs_uitgave.xlsx', na_values='.')\n",
    "display(df['Type onderwijs'].value_counts())\n",
    "#-------------------------------------------------------------------------\n",
    "df"
   ]
  },
  {
   "cell_type": "markdown",
   "id": "93c7e557",
   "metadata": {},
   "source": [
    "### 2a Primair onderwijs (1)\t\n",
    "Er zijn meerdere types voor primair onderwijs.\n",
    "- Maak een list met daarin de types voor primair onderwijs. **Hint:** kopieer uit de oplossing van de vorige vraag.\n",
    "- Gebruik deze list om alle regels met uitgaven aan primair onderwijs te tonen."
   ]
  },
  {
   "cell_type": "code",
   "execution_count": 31,
   "id": "9283cf27",
   "metadata": {},
   "outputs": [
    {
     "data": {
      "text/html": [
       "<div>\n",
       "<style scoped>\n",
       "    .dataframe tbody tr th:only-of-type {\n",
       "        vertical-align: middle;\n",
       "    }\n",
       "\n",
       "    .dataframe tbody tr th {\n",
       "        vertical-align: top;\n",
       "    }\n",
       "\n",
       "    .dataframe thead th {\n",
       "        text-align: right;\n",
       "    }\n",
       "</style>\n",
       "<table border=\"1\" class=\"dataframe\">\n",
       "  <thead>\n",
       "    <tr style=\"text-align: right;\">\n",
       "      <th></th>\n",
       "      <th>Perioden</th>\n",
       "      <th>Type uitgave</th>\n",
       "      <th>Type onderwijs</th>\n",
       "      <th>Waarde</th>\n",
       "    </tr>\n",
       "  </thead>\n",
       "  <tbody>\n",
       "    <tr>\n",
       "      <th>0</th>\n",
       "      <td>1900</td>\n",
       "      <td>Overheidsuitgaven aan onderwijs</td>\n",
       "      <td>(Pre)primair onderwijs|Preprimair onderwijs en...</td>\n",
       "      <td>7.0</td>\n",
       "    </tr>\n",
       "    <tr>\n",
       "      <th>1</th>\n",
       "      <td>1900</td>\n",
       "      <td>Overheidsuitgaven aan onderwijs</td>\n",
       "      <td>(Pre)primair onderwijs|Speciaal (basis)onderwijs</td>\n",
       "      <td>NaN</td>\n",
       "    </tr>\n",
       "    <tr>\n",
       "      <th>10</th>\n",
       "      <td>1901</td>\n",
       "      <td>Overheidsuitgaven aan onderwijs</td>\n",
       "      <td>(Pre)primair onderwijs|Preprimair onderwijs en...</td>\n",
       "      <td>8.0</td>\n",
       "    </tr>\n",
       "    <tr>\n",
       "      <th>11</th>\n",
       "      <td>1901</td>\n",
       "      <td>Overheidsuitgaven aan onderwijs</td>\n",
       "      <td>(Pre)primair onderwijs|Speciaal (basis)onderwijs</td>\n",
       "      <td>NaN</td>\n",
       "    </tr>\n",
       "    <tr>\n",
       "      <th>20</th>\n",
       "      <td>1902</td>\n",
       "      <td>Overheidsuitgaven aan onderwijs</td>\n",
       "      <td>(Pre)primair onderwijs|Preprimair onderwijs en...</td>\n",
       "      <td>8.0</td>\n",
       "    </tr>\n",
       "    <tr>\n",
       "      <th>...</th>\n",
       "      <td>...</td>\n",
       "      <td>...</td>\n",
       "      <td>...</td>\n",
       "      <td>...</td>\n",
       "    </tr>\n",
       "    <tr>\n",
       "      <th>1161</th>\n",
       "      <td>2016</td>\n",
       "      <td>Overheidsuitgaven aan onderwijs</td>\n",
       "      <td>(Pre)primair onderwijs|Speciaal (basis)onderwijs</td>\n",
       "      <td>1305.0</td>\n",
       "    </tr>\n",
       "    <tr>\n",
       "      <th>1170</th>\n",
       "      <td>2017</td>\n",
       "      <td>Overheidsuitgaven aan onderwijs</td>\n",
       "      <td>(Pre)primair onderwijs|Preprimair onderwijs en...</td>\n",
       "      <td>9715.0</td>\n",
       "    </tr>\n",
       "    <tr>\n",
       "      <th>1171</th>\n",
       "      <td>2017</td>\n",
       "      <td>Overheidsuitgaven aan onderwijs</td>\n",
       "      <td>(Pre)primair onderwijs|Speciaal (basis)onderwijs</td>\n",
       "      <td>1284.0</td>\n",
       "    </tr>\n",
       "    <tr>\n",
       "      <th>1180</th>\n",
       "      <td>2018</td>\n",
       "      <td>Overheidsuitgaven aan onderwijs</td>\n",
       "      <td>(Pre)primair onderwijs|Preprimair onderwijs en...</td>\n",
       "      <td>10211.0</td>\n",
       "    </tr>\n",
       "    <tr>\n",
       "      <th>1181</th>\n",
       "      <td>2018</td>\n",
       "      <td>Overheidsuitgaven aan onderwijs</td>\n",
       "      <td>(Pre)primair onderwijs|Speciaal (basis)onderwijs</td>\n",
       "      <td>1371.0</td>\n",
       "    </tr>\n",
       "  </tbody>\n",
       "</table>\n",
       "<p>238 rows × 4 columns</p>\n",
       "</div>"
      ],
      "text/plain": [
       "      Perioden                     Type uitgave  \\\n",
       "0         1900  Overheidsuitgaven aan onderwijs   \n",
       "1         1900  Overheidsuitgaven aan onderwijs   \n",
       "10        1901  Overheidsuitgaven aan onderwijs   \n",
       "11        1901  Overheidsuitgaven aan onderwijs   \n",
       "20        1902  Overheidsuitgaven aan onderwijs   \n",
       "...        ...                              ...   \n",
       "1161      2016  Overheidsuitgaven aan onderwijs   \n",
       "1170      2017  Overheidsuitgaven aan onderwijs   \n",
       "1171      2017  Overheidsuitgaven aan onderwijs   \n",
       "1180      2018  Overheidsuitgaven aan onderwijs   \n",
       "1181      2018  Overheidsuitgaven aan onderwijs   \n",
       "\n",
       "                                         Type onderwijs   Waarde  \n",
       "0     (Pre)primair onderwijs|Preprimair onderwijs en...      7.0  \n",
       "1      (Pre)primair onderwijs|Speciaal (basis)onderwijs      NaN  \n",
       "10    (Pre)primair onderwijs|Preprimair onderwijs en...      8.0  \n",
       "11     (Pre)primair onderwijs|Speciaal (basis)onderwijs      NaN  \n",
       "20    (Pre)primair onderwijs|Preprimair onderwijs en...      8.0  \n",
       "...                                                 ...      ...  \n",
       "1161   (Pre)primair onderwijs|Speciaal (basis)onderwijs   1305.0  \n",
       "1170  (Pre)primair onderwijs|Preprimair onderwijs en...   9715.0  \n",
       "1171   (Pre)primair onderwijs|Speciaal (basis)onderwijs   1284.0  \n",
       "1180  (Pre)primair onderwijs|Preprimair onderwijs en...  10211.0  \n",
       "1181   (Pre)primair onderwijs|Speciaal (basis)onderwijs   1371.0  \n",
       "\n",
       "[238 rows x 4 columns]"
      ]
     },
     "execution_count": 31,
     "metadata": {},
     "output_type": "execute_result"
    }
   ],
   "source": [
    "#moet je kunnen op de toets\n",
    "\n",
    "primair = ['(Pre)primair onderwijs|Preprimair onderwijs en basisonderwijs', '(Pre)primair onderwijs|Speciaal (basis)onderwijs']\n",
    "df_pr = df[df['Type onderwijs'].isin(primair)]\n",
    "df_pr\n",
    "\n",
    "\n",
    "\n"
   ]
  },
  {
   "cell_type": "markdown",
   "id": "a04ebefb",
   "metadata": {},
   "source": [
    "### 2b Primair onderwijs (2)\n",
    "- Maak een nieuw dataframe waarbij type onderwijs de index is.\n",
    "- Toon uit het nieuwe dataframe opnieuw de regels met uitgaven aan primair onderwijs.\n"
   ]
  },
  {
   "cell_type": "code",
   "execution_count": 32,
   "id": "d041a9fd",
   "metadata": {},
   "outputs": [
    {
     "data": {
      "text/html": [
       "<div>\n",
       "<style scoped>\n",
       "    .dataframe tbody tr th:only-of-type {\n",
       "        vertical-align: middle;\n",
       "    }\n",
       "\n",
       "    .dataframe tbody tr th {\n",
       "        vertical-align: top;\n",
       "    }\n",
       "\n",
       "    .dataframe thead th {\n",
       "        text-align: right;\n",
       "    }\n",
       "</style>\n",
       "<table border=\"1\" class=\"dataframe\">\n",
       "  <thead>\n",
       "    <tr style=\"text-align: right;\">\n",
       "      <th></th>\n",
       "      <th>Perioden</th>\n",
       "      <th>Type uitgave</th>\n",
       "      <th>Waarde</th>\n",
       "    </tr>\n",
       "    <tr>\n",
       "      <th>Type onderwijs</th>\n",
       "      <th></th>\n",
       "      <th></th>\n",
       "      <th></th>\n",
       "    </tr>\n",
       "  </thead>\n",
       "  <tbody>\n",
       "    <tr>\n",
       "      <th>(Pre)primair onderwijs|Preprimair onderwijs en basisonderwijs</th>\n",
       "      <td>1900</td>\n",
       "      <td>Overheidsuitgaven aan onderwijs</td>\n",
       "      <td>7.0</td>\n",
       "    </tr>\n",
       "    <tr>\n",
       "      <th>(Pre)primair onderwijs|Preprimair onderwijs en basisonderwijs</th>\n",
       "      <td>1901</td>\n",
       "      <td>Overheidsuitgaven aan onderwijs</td>\n",
       "      <td>8.0</td>\n",
       "    </tr>\n",
       "    <tr>\n",
       "      <th>(Pre)primair onderwijs|Preprimair onderwijs en basisonderwijs</th>\n",
       "      <td>1902</td>\n",
       "      <td>Overheidsuitgaven aan onderwijs</td>\n",
       "      <td>8.0</td>\n",
       "    </tr>\n",
       "    <tr>\n",
       "      <th>(Pre)primair onderwijs|Preprimair onderwijs en basisonderwijs</th>\n",
       "      <td>1903</td>\n",
       "      <td>Overheidsuitgaven aan onderwijs</td>\n",
       "      <td>8.0</td>\n",
       "    </tr>\n",
       "    <tr>\n",
       "      <th>(Pre)primair onderwijs|Preprimair onderwijs en basisonderwijs</th>\n",
       "      <td>1904</td>\n",
       "      <td>Overheidsuitgaven aan onderwijs</td>\n",
       "      <td>8.0</td>\n",
       "    </tr>\n",
       "    <tr>\n",
       "      <th>...</th>\n",
       "      <td>...</td>\n",
       "      <td>...</td>\n",
       "      <td>...</td>\n",
       "    </tr>\n",
       "    <tr>\n",
       "      <th>(Pre)primair onderwijs|Speciaal (basis)onderwijs</th>\n",
       "      <td>2014</td>\n",
       "      <td>Overheidsuitgaven aan onderwijs</td>\n",
       "      <td>1268.0</td>\n",
       "    </tr>\n",
       "    <tr>\n",
       "      <th>(Pre)primair onderwijs|Speciaal (basis)onderwijs</th>\n",
       "      <td>2015</td>\n",
       "      <td>Overheidsuitgaven aan onderwijs</td>\n",
       "      <td>1304.0</td>\n",
       "    </tr>\n",
       "    <tr>\n",
       "      <th>(Pre)primair onderwijs|Speciaal (basis)onderwijs</th>\n",
       "      <td>2016</td>\n",
       "      <td>Overheidsuitgaven aan onderwijs</td>\n",
       "      <td>1305.0</td>\n",
       "    </tr>\n",
       "    <tr>\n",
       "      <th>(Pre)primair onderwijs|Speciaal (basis)onderwijs</th>\n",
       "      <td>2017</td>\n",
       "      <td>Overheidsuitgaven aan onderwijs</td>\n",
       "      <td>1284.0</td>\n",
       "    </tr>\n",
       "    <tr>\n",
       "      <th>(Pre)primair onderwijs|Speciaal (basis)onderwijs</th>\n",
       "      <td>2018</td>\n",
       "      <td>Overheidsuitgaven aan onderwijs</td>\n",
       "      <td>1371.0</td>\n",
       "    </tr>\n",
       "  </tbody>\n",
       "</table>\n",
       "<p>238 rows × 3 columns</p>\n",
       "</div>"
      ],
      "text/plain": [
       "                                                    Perioden  \\\n",
       "Type onderwijs                                                 \n",
       "(Pre)primair onderwijs|Preprimair onderwijs en ...      1900   \n",
       "(Pre)primair onderwijs|Preprimair onderwijs en ...      1901   \n",
       "(Pre)primair onderwijs|Preprimair onderwijs en ...      1902   \n",
       "(Pre)primair onderwijs|Preprimair onderwijs en ...      1903   \n",
       "(Pre)primair onderwijs|Preprimair onderwijs en ...      1904   \n",
       "...                                                      ...   \n",
       "(Pre)primair onderwijs|Speciaal (basis)onderwijs        2014   \n",
       "(Pre)primair onderwijs|Speciaal (basis)onderwijs        2015   \n",
       "(Pre)primair onderwijs|Speciaal (basis)onderwijs        2016   \n",
       "(Pre)primair onderwijs|Speciaal (basis)onderwijs        2017   \n",
       "(Pre)primair onderwijs|Speciaal (basis)onderwijs        2018   \n",
       "\n",
       "                                                                       Type uitgave  \\\n",
       "Type onderwijs                                                                        \n",
       "(Pre)primair onderwijs|Preprimair onderwijs en ...  Overheidsuitgaven aan onderwijs   \n",
       "(Pre)primair onderwijs|Preprimair onderwijs en ...  Overheidsuitgaven aan onderwijs   \n",
       "(Pre)primair onderwijs|Preprimair onderwijs en ...  Overheidsuitgaven aan onderwijs   \n",
       "(Pre)primair onderwijs|Preprimair onderwijs en ...  Overheidsuitgaven aan onderwijs   \n",
       "(Pre)primair onderwijs|Preprimair onderwijs en ...  Overheidsuitgaven aan onderwijs   \n",
       "...                                                                             ...   \n",
       "(Pre)primair onderwijs|Speciaal (basis)onderwijs    Overheidsuitgaven aan onderwijs   \n",
       "(Pre)primair onderwijs|Speciaal (basis)onderwijs    Overheidsuitgaven aan onderwijs   \n",
       "(Pre)primair onderwijs|Speciaal (basis)onderwijs    Overheidsuitgaven aan onderwijs   \n",
       "(Pre)primair onderwijs|Speciaal (basis)onderwijs    Overheidsuitgaven aan onderwijs   \n",
       "(Pre)primair onderwijs|Speciaal (basis)onderwijs    Overheidsuitgaven aan onderwijs   \n",
       "\n",
       "                                                    Waarde  \n",
       "Type onderwijs                                              \n",
       "(Pre)primair onderwijs|Preprimair onderwijs en ...     7.0  \n",
       "(Pre)primair onderwijs|Preprimair onderwijs en ...     8.0  \n",
       "(Pre)primair onderwijs|Preprimair onderwijs en ...     8.0  \n",
       "(Pre)primair onderwijs|Preprimair onderwijs en ...     8.0  \n",
       "(Pre)primair onderwijs|Preprimair onderwijs en ...     8.0  \n",
       "...                                                    ...  \n",
       "(Pre)primair onderwijs|Speciaal (basis)onderwijs    1268.0  \n",
       "(Pre)primair onderwijs|Speciaal (basis)onderwijs    1304.0  \n",
       "(Pre)primair onderwijs|Speciaal (basis)onderwijs    1305.0  \n",
       "(Pre)primair onderwijs|Speciaal (basis)onderwijs    1284.0  \n",
       "(Pre)primair onderwijs|Speciaal (basis)onderwijs    1371.0  \n",
       "\n",
       "[238 rows x 3 columns]"
      ]
     },
     "execution_count": 32,
     "metadata": {},
     "output_type": "execute_result"
    }
   ],
   "source": [
    "df_ind = df.set_index('Type onderwijs')\n",
    "df_pr = df_ind.loc[primair]\n",
    "df_pr"
   ]
  },
  {
   "cell_type": "markdown",
   "id": "04d6c54e",
   "metadata": {},
   "source": [
    "### 2c Jouw basisschooltijd\n",
    "- Toon het procentuele verschil (met 2 decimalen) tussen de uitgaven aan primair onderwijs toen je startte met de basisschool en toen je klaar was met de basisschool."
   ]
  },
  {
   "cell_type": "code",
   "execution_count": 39,
   "id": "c5c5ea69",
   "metadata": {},
   "outputs": [
    {
     "data": {
      "text/plain": [
       "3875.0"
      ]
     },
     "metadata": {},
     "output_type": "display_data"
    },
    {
     "data": {
      "text/plain": [
       "3818.0"
      ]
     },
     "metadata": {},
     "output_type": "display_data"
    }
   ],
   "source": []
  },
  {
   "cell_type": "markdown",
   "id": "46e2b612",
   "metadata": {},
   "source": [
    "### 3 Toename overheidsuitgaven\n",
    "- Toon de absolute toename van de overheidsguitgaven aan onderwijs voor het onderwijstype wetenschappelijk onderwijs van 2010 ten opzichte van 2000."
   ]
  },
  {
   "cell_type": "code",
   "execution_count": 86,
   "id": "d7a86fe4",
   "metadata": {
    "ExecuteTime": {
     "end_time": "2022-10-05T11:42:40.133876Z",
     "start_time": "2022-10-05T11:42:40.122906Z"
    }
   },
   "outputs": [
    {
     "name": "stdout",
     "output_type": "stream",
     "text": [
      "8\n",
      "8\n"
     ]
    }
   ],
   "source": [
    "def plus(x,y):\n",
    "    return x+y\n",
    "print(plus(4,4))\n",
    "#-------------------------------------------------------------\n",
    "x1 = 4\n",
    "x2 = 4\n",
    "print(x1+x2)"
   ]
  },
  {
   "cell_type": "markdown",
   "id": "3207f201",
   "metadata": {},
   "source": [
    "### 4 Integratie\n",
    "- Laat zien wat de grootste procentuele verandering is geweest in \"Overheidsuitgaven aan onderwijs\" in de periode 2000 tot en met 2010. Toon ook in welk jaar dat was. Tips:\n",
    "    - Maak een draaitabel waarin je per jaar de uitgaven toont.\n",
    "    - Maak een nieuw dataframe waarin je uit de draaitabel de jaren 2000 t/m 2010 en de uitgaven aan onderwijs filtert.\n",
    "    - Voeg een kolom met procentuele veranderingen toe (zoek hiervoor in de Pandas documentatie)\n",
    "    - Toon wat de hoogste procentuele verandering was.\n",
    "    - Toon het jaar dat hierbij hoort. Bedenk dat de jaren in de index staan. Er is een Pandas functie waarmee je de index van een hoogste waarde kunt tonen.\n"
   ]
  },
  {
   "cell_type": "code",
   "execution_count": 4,
   "id": "85de009b",
   "metadata": {
    "ExecuteTime": {
     "end_time": "2022-10-05T11:42:42.726836Z",
     "start_time": "2022-10-05T11:42:42.708913Z"
    }
   },
   "outputs": [],
   "source": [
    "#pivot tables komen op de toets\n",
    "df = pd.read_excel('onderwijs_uitgave.xlsx', na_values='.')\n"
   ]
  }
 ],
 "metadata": {
  "kernelspec": {
   "display_name": "Python 3 (ipykernel)",
   "language": "python",
   "name": "python3"
  },
  "language_info": {
   "codemirror_mode": {
    "name": "ipython",
    "version": 3
   },
   "file_extension": ".py",
   "mimetype": "text/x-python",
   "name": "python",
   "nbconvert_exporter": "python",
   "pygments_lexer": "ipython3",
   "version": "3.11.4"
  },
  "varInspector": {
   "cols": {
    "lenName": 16,
    "lenType": 16,
    "lenVar": 40
   },
   "kernels_config": {
    "python": {
     "delete_cmd_postfix": "",
     "delete_cmd_prefix": "del ",
     "library": "var_list.py",
     "varRefreshCmd": "print(var_dic_list())"
    },
    "r": {
     "delete_cmd_postfix": ") ",
     "delete_cmd_prefix": "rm(",
     "library": "var_list.r",
     "varRefreshCmd": "cat(var_dic_list()) "
    }
   },
   "types_to_exclude": [
    "module",
    "function",
    "builtin_function_or_method",
    "instance",
    "_Feature"
   ],
   "window_display": false
  },
  "vscode": {
   "interpreter": {
    "hash": "ad2bdc8ecc057115af97d19610ffacc2b4e99fae6737bb82f5d7fb13d2f2c186"
   }
  }
 },
 "nbformat": 4,
 "nbformat_minor": 5
}
