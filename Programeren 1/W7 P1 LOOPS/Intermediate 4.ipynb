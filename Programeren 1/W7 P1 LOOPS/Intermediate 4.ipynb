{
 "cells": [
  {
   "cell_type": "markdown",
   "metadata": {},
   "source": [
    "# Loops"
   ]
  },
  {
   "cell_type": "markdown",
   "metadata": {},
   "source": [
    "- Voer onderstaande cel uit om een dataframe, lists en numpy arrays aan te maken voor de oefeningen erna."
   ]
  },
  {
   "cell_type": "code",
   "execution_count": 1,
   "metadata": {
    "scrolled": true
   },
   "outputs": [],
   "source": [
    "#Creating lists from columns in dataframe\n",
    "import pandas as pd\n",
    "import numpy as np\n",
    "storedata = pd.read_csv('storedata_clean.csv',sep=\";\")\n",
    "storedata.rename(columns={'Profit': 'Turnover'}, inplace=True)\n",
    "\n",
    "#Creating lists from dataframe\n",
    "turnover = storedata['Turnover'].values.tolist()\n",
    "staff = storedata['Staff'].values.tolist()\n",
    "floor = storedata['Floor Space'].values.tolist()\n",
    "comp_sc = storedata['Competition score'].values.tolist()\n",
    "comp_no = storedata['Competition number'].values.tolist()\n",
    "min30 = storedata['30 min population'].values.tolist()\n",
    "\n",
    "# creating numpy arrays\n",
    "np_to = np.array(turnover)\n",
    "np_floor = np.array(floor)\n",
    "np_comp_sc = np.array(comp_sc)\n",
    "np_comp_no = np.array(comp_no)"
   ]
  },
  {
   "cell_type": "markdown",
   "metadata": {},
   "source": [
    "## 1 Loops & Lists\n",
    "### 1.1 For loops & lists\n",
    "\n",
    "- Maak een for loop die itereert over de elementen in de floor list. In deze loop vindt het volgende plaats:\n",
    "     - de elementen (oppervlaktes) worden opgeteld en toegewezen aan de variabele total_floor.\n",
    "     - Als de loop klaar is dan bevat total_floor de totale oppervlakte van alle winkels tezamen.\n",
    "- Bepaal het aantal elementen in floor met behulp van een functie.\n",
    "- Print de totale oppervlakte, het aantal winkels en de gemiddelde oppervlakte."
   ]
  },
  {
   "cell_type": "code",
   "execution_count": 2,
   "metadata": {},
   "outputs": [],
   "source": [
    "total_floor = 0\n",
    "#start coding here:"
   ]
  },
  {
   "cell_type": "markdown",
   "metadata": {},
   "source": [
    "### 1.2 Geindexeerde for loops\n",
    "- Print de gemiddelde oppervlakte nogmaals, maa nu de functie enumerate() om een geindexeerde for loop te maken. Aan het einde van de loop bevat de index variabele het aantal elementen in de lijst.\n",
    "- Gebruik onder andere deze variabele om de gemiddelde oppervlakte te berekenen."
   ]
  },
  {
   "cell_type": "code",
   "execution_count": null,
   "metadata": {},
   "outputs": [],
   "source": []
  },
  {
   "cell_type": "markdown",
   "metadata": {},
   "source": [
    "### 1.3 loopen over lists binnen lists.\n",
    "- Maak een for loop die over de sublists in fl_sp itereert. \n",
    "- Bij iedere iteratie wordt het volgende geprint: \"x has a floor space of y sqm\". Hierbij is x de plaatsnaam en y de oppervlakte."
   ]
  },
  {
   "cell_type": "code",
   "execution_count": 4,
   "metadata": {},
   "outputs": [
    {
     "name": "stdout",
     "output_type": "stream",
     "text": [
      "swinton has a floor space of 18526 sqm\n",
      "stamford has a floor space of 18569 sqm\n",
      "skipton has a floor space of 12288 sqm\n",
      "stratton has a floor space of 17092 sqm\n",
      "shepperton has a floor space of 11307 sqm\n"
     ]
    }
   ],
   "source": [
    "fl_sp = [['swinton', 18526], ['stamford', 18569], ['skipton', 12288], ['stratton', 17092], ['shepperton', 11307]]\n",
    "#Start coding here\n"
   ]
  },
  {
   "cell_type": "markdown",
   "metadata": {},
   "source": [
    "## 2 Loops & dictionaries\n",
    "- Voer onderstaande cel uit om de st_to dictionary aan te maken.\n",
    "- Hierin vind je de omzet per winkel."
   ]
  },
  {
   "cell_type": "code",
   "execution_count": 5,
   "metadata": {},
   "outputs": [
    {
     "name": "stdout",
     "output_type": "stream",
     "text": [
      "{1437: 3410865, 1544: 4034051, 2039: 2297810, 2055: 2398990, 2141: 2288235, 2309: 3058134, 3800: 2793160, 4214: 3345936, 4857: 3117205, 4860: 3153278, 7491: 3056804, 7566: 1801619, 8207: 3797953, 9171: 3138911, 11440: 2724068, 13132: 2382751, 13984: 3321899, 14359: 2803867, 14421: 3640627, 14984: 3075352, 15125: 3491993, 16727: 3252148, 16741: 3041618, 18554: 3737466, 19296: 4217291, 20304: 2008363, 20971: 3516397, 21359: 3957233, 23025: 2942839, 23231: 2242288, 23249: 2616387, 23705: 2493975, 24174: 2203994, 24618: 2458785, 24737: 4253984, 26307: 4185306, 29319: 4160531, 32610: 3100521, 34686: 3246954, 35207: 2085733, 35944: 3741911, 36979: 2506748, 37708: 2393869, 37916: 4137224, 40352: 3572475, 40676: 3121837, 41475: 2799074, 42172: 2707402, 42797: 4176642, 42943: 1829621, 43044: 2681110, 43066: 2411437, 44476: 4300537, 44722: 3758014, 45223: 2234201, 45547: 2342229, 45577: 2104028, 46116: 2406120, 47290: 2839607, 48341: 2831103, 50703: 3032277, 51992: 3625088, 52414: 2196757, 54193: 3336417, 55138: 2779994, 55717: 3175101, 55895: 4587304, 55967: 3029751, 56056: 1512452, 56595: 3418735, 56930: 2526616, 57418: 2333940, 58249: 3197934, 58882: 3135133, 59280: 3822904, 59431: 2538362, 59517: 1855427, 59653: 2260838, 59794: 3524409, 60116: 3709026, 61950: 3337861, 62022: 2407898, 62586: 3260276, 63017: 1792809, 64781: 2804353, 65437: 2869330, 65659: 2422936, 66482: 4237135, 66844: 3007050, 67041: 4018966, 67403: 2553461, 67717: 3817558, 67825: 2405770, 67831: 1764019, 68816: 4793593, 69540: 2896362, 73474: 3192066, 74421: 3092180, 74620: 2419983, 74958: 2701564, 76653: 3606536, 76773: 3304795, 77163: 3663843, 77644: 3965957, 78305: 2651301, 78368: 3487542, 78904: 2004312, 79413: 3102538, 81258: 2291029, 82709: 3895318, 82754: 3741407, 83250: 2604575, 83312: 1648919, 83479: 1665527, 83480: 3654694, 84225: 3598894, 85185: 2172265, 85476: 2397407, 87212: 2329927, 87510: 3444876, 88442: 2564358, 88942: 2534145, 90621: 2956061, 90995: 2467943, 91085: 3891535, 92341: 3498966, 92768: 2872001, 93212: 3501093, 93991: 3774401, 95915: 3584813, 96852: 2561019, 96853: 2581954, 96858: 2589339, 98062: 2583755, 98923: 950924, 99854: 3485295}\n"
     ]
    }
   ],
   "source": [
    "#Creating dictionary from columns in dataframe\n",
    "store_id = storedata['Store ID'].values.tolist()\n",
    "turnover = storedata['Turnover'].values.tolist()\n",
    "floor = storedata['Floor Space'].values.tolist()\n",
    "\n",
    "st_to = dict(zip(store_id, turnover))\n",
    "print(st_to)"
   ]
  },
  {
   "cell_type": "markdown",
   "metadata": {},
   "source": [
    "### 2.1  Loopen over een dictionary\n",
    "- Maak een for loop die over de items in st_to itereert waarbij alle omzetten bij elkaar worden opgeteld en toegewezen aan de variabele total_to.\n",
    "- Tel tijdens iedere iteratie 1 op bij de variabele number.\n",
    "- Print de totale omzet, het aantal winkels en de gemiddelde omzet. De gemiddelde omzet wordt afgedrukt als een integer."
   ]
  },
  {
   "cell_type": "code",
   "execution_count": 1,
   "metadata": {},
   "outputs": [],
   "source": [
    "total_to = 0\n",
    "number = 0\n",
    "#start coding here\n"
   ]
  },
  {
   "cell_type": "markdown",
   "metadata": {},
   "source": [
    "## 3 Loops & numpy arrays\n",
    "- Aan het begin van dit bestand is de Numpy array np_floor aangemaakt."
   ]
  },
  {
   "cell_type": "markdown",
   "metadata": {},
   "source": [
    "### 3.1 Loopen over een numpy array\n",
    "- Maak een for loop die itereert over de elementen np_floor. In deze loop vindt het volgende plaats:\n",
    "     - de elementen (oppervlaktes) worden opgeteld en toegewezen aan de variabele np_total_floor.\n",
    "     - Als de loop klaar is dan bevat np_total_floor de totale oppervlakte van alle winkels tezamen.\n",
    "     - Tel tijdens iedere iteratie 1 op bij de variabele number.\n",
    "- Bereken de gemiddelde oppervlakte met de variabelen np_total_floor en number. Wijs het resultaat toe aan de variabele avg.\n",
    "- Bereken de gemiddelde oppervlakte met een numpy functie. Wijs dit resultaat toe aan avg_alt.\n",
    "- Welke wijze van gemiddelde berekeken verdient de voorkeur? Waarom?"
   ]
  },
  {
   "cell_type": "code",
   "execution_count": null,
   "metadata": {},
   "outputs": [],
   "source": []
  },
  {
   "cell_type": "markdown",
   "metadata": {},
   "source": [
    "## 4 Loops & Dataframes\n",
    "### 4.1 loopen over een Pandas dataframe\n",
    "- Maak een for loop die itereert over de elementen van storedata en de oppervlaktes optelt en toewijs aan de variabele pd_total_floor. \n",
    "- Tel tijdens iedere iteratie 1 op bij de variabele number.\n",
    "- Gebruik pd_total_floor en number om het gemiddelde uit te rekenen en toe te wijzen aan de variable avg.\n",
    "- Print avg."
   ]
  },
  {
   "cell_type": "code",
   "execution_count": null,
   "metadata": {},
   "outputs": [],
   "source": []
  },
  {
   "cell_type": "markdown",
   "metadata": {},
   "source": [
    "## 5 Integratie\n",
    "### 5.1 control flow en loops\n",
    "- Gebruik een for loop om de nieuwe kolom 'Turnover Floor' aan te maken in het storedata dataframe. Toon in deze kolom de omzet (Turnover) per vierkante meter (Floor Space).\n",
    "- Pas control flow (if, else en/of elif) toe in de loop om de kolom 'Performance' aan te maken:\n",
    "    - Als de omzet per vierkante meter hoger is dan 210 dan is de performance 'Very Good'.\n",
    "    - Als de omzet per vierkante meter hoger is dan 200 dan is de performance 'Good'.\n",
    "    - In alle andere gevallen is de performance 'Poor'.\n",
    "- Toon de nieuwe kolommen."
   ]
  },
  {
   "cell_type": "code",
   "execution_count": null,
   "metadata": {},
   "outputs": [],
   "source": []
  },
  {
   "cell_type": "markdown",
   "metadata": {},
   "source": [
    "### 5.2 Nieuwe kolom zonder for loop\n",
    "- Maak een nieuwe kolom 'Turnover Staff' ZONDER een for loop waarin de omzet per medewerker (Staff) staat."
   ]
  },
  {
   "cell_type": "code",
   "execution_count": null,
   "metadata": {},
   "outputs": [],
   "source": []
  },
  {
   "cell_type": "markdown",
   "metadata": {},
   "source": [
    "### 5.3 Dictionary maken met for loop\n",
    "- Maak met een for-loop de dictionary st_num aan waarin je laat zien hoeveel winkels er zijn per aantal medewerkers ('Staff'). Er zijn bijvoorbeeld 28 winkels met 9 medewerkers. De dictionary dient er als volgt uit te zien: {9: 28, 8: 18, 2: 1, 7: 29, 5: 29, 6: 30, 3: 1}"
   ]
  },
  {
   "cell_type": "code",
   "execution_count": null,
   "metadata": {},
   "outputs": [],
   "source": []
  }
 ],
 "metadata": {
  "kernelspec": {
   "display_name": "Python 3 (ipykernel)",
   "language": "python",
   "name": "python3"
  },
  "language_info": {
   "codemirror_mode": {
    "name": "ipython",
    "version": 3
   },
   "file_extension": ".py",
   "mimetype": "text/x-python",
   "name": "python",
   "nbconvert_exporter": "python",
   "pygments_lexer": "ipython3",
   "version": "3.10.9"
  }
 },
 "nbformat": 4,
 "nbformat_minor": 2
}
