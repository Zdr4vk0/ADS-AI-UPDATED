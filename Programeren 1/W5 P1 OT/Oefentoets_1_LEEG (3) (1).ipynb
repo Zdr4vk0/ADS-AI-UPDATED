{
 "cells": [
  {
   "cell_type": "code",
   "execution_count": 11,
   "metadata": {},
   "outputs": [
    {
     "name": "stdout",
     "output_type": "stream",
     "text": [
      "conda 23.7.2\n",
      "6.5.4\n",
      "Python 3.11.4\n",
      "2.4.2\n"
     ]
    }
   ],
   "source": [
    "#Verander niets en voer onderstaande cel uit\n",
    "import pandas as pd\n",
    "import numpy as np\n",
    "#dataframe:\n",
    "df = pd.read_csv('storedata_clean.csv',sep = ';', index_col = 'Store ID')\n",
    "df['Town'] = df['Town'].str.strip()\n",
    "#lists:\n",
    "town = list(df['Town'])\n",
    "manager = list(df['Manager name'])\n",
    "profit = list(df['Profit'])\n",
    "#numpy array\n",
    "st_fl_np = df[['Town', 'Floor Space']].values\n",
    "#dictionary\n",
    "st = {t:{'manager':m, 'profit':p} for t,m,p in zip(town,manager,profit)}\n",
    "\n",
    "\n",
    "!conda --version\n",
    "!jupyter notebook --version\n",
    "!python --version\n",
    "!anaconda-navigator --version"
   ]
  },
  {
   "cell_type": "code",
   "execution_count": 1,
   "metadata": {},
   "outputs": [],
   "source": [
    "#1a\n",
    "\n",
    "\n",
    "#1b\n"
   ]
  },
  {
   "cell_type": "code",
   "execution_count": 2,
   "metadata": {},
   "outputs": [],
   "source": [
    "#1c\n",
    "\n",
    "\n",
    "#1d\n"
   ]
  },
  {
   "cell_type": "code",
   "execution_count": 3,
   "metadata": {},
   "outputs": [],
   "source": [
    "#2a\n",
    "\n",
    "\n",
    "#2b\n",
    "\n",
    "\n",
    "#2c\n",
    "\n"
   ]
  },
  {
   "cell_type": "code",
   "execution_count": 4,
   "metadata": {},
   "outputs": [],
   "source": [
    "#3a\n",
    "\n",
    "\n",
    "#3b\n"
   ]
  },
  {
   "cell_type": "code",
   "execution_count": 5,
   "metadata": {},
   "outputs": [],
   "source": [
    "#4a\n"
   ]
  },
  {
   "cell_type": "code",
   "execution_count": 6,
   "metadata": {},
   "outputs": [],
   "source": [
    "#4b\n"
   ]
  }
 ],
 "metadata": {
  "kernelspec": {
   "display_name": "Python 3 (ipykernel)",
   "language": "python",
   "name": "python3"
  },
  "language_info": {
   "codemirror_mode": {
    "name": "ipython",
    "version": 3
   },
   "file_extension": ".py",
   "mimetype": "text/x-python",
   "name": "python",
   "nbconvert_exporter": "python",
   "pygments_lexer": "ipython3",
   "version": "3.11.4"
  }
 },
 "nbformat": 4,
 "nbformat_minor": 4
}
