{
 "cells": [
  {
   "cell_type": "markdown",
   "metadata": {},
   "source": [
    "# Functies en methods"
   ]
  },
  {
   "cell_type": "markdown",
   "metadata": {},
   "source": [
    "## Inleiding\n",
    "\n",
    "In onderstaande opdrachten ga je functies en methods toepassen die je waarschijnlijk nog niet kent. Het maakt onderdeel uit van de opdracht om uit te vinden welke functie of method geschikt is. Zoek hiervoor op het internet. Uitvinden hoe je een probleem kunt oplossen is een belangrijke programmeervaardigheid.\n",
    "\n",
    "Het is overigens ook mogelijk om zelf functies en methods te maken. Dit is iets dat later aan de orde komt."
   ]
  },
  {
   "cell_type": "markdown",
   "metadata": {},
   "source": [
    "## 1. Functies\n",
    "### 1.1 inleiding\n",
    "\n",
    "- Gebruik een functie waarmee je fl_sp omzet naar fl_sp2. Als de ene list wijzigt dan mag de andere NIET veranderen. \n",
    "- Print de lengte (het aantal elementen) van fl_sp2\n",
    "- Wijs 'stamford' uit fl_sp2 toe aan de variabele stamford.\n",
    "- Print het type van stamford.\n",
    "- Wijs 18569 uit fl_sp2 toe aan de variabele fl_sp_stamford.\n",
    "- Verander het type van fl_sp_stamford in float.\n",
    "- Print het type van fl_sp_stamford\n",
    "- Benoem welke functies je hebt toegepast in bovenstaande opdrachten."
   ]
  },
  {
   "cell_type": "code",
   "execution_count": 1,
   "metadata": {
    "scrolled": true
   },
   "outputs": [
    {
     "name": "stdout",
     "output_type": "stream",
     "text": [
      "stamford\n",
      "18569\n"
     ]
    },
    {
     "data": {
      "text/plain": [
       "int"
      ]
     },
     "execution_count": 1,
     "metadata": {},
     "output_type": "execute_result"
    }
   ],
   "source": [
    "fl_sp = ['swinton', 18526, 'stamford', 18569, 'skipton', 12288, 'stratton', 17092, 'shepperton', 11307]\n",
    "#Start coding here:\n",
    "fl_sp2 = fl_sp.copy()\n",
    "#\n",
    "stamford = fl_sp2[2]\n",
    "print(stamford)\n",
    "#\n",
    "fl_sp_stamford = fl_sp[3]\n",
    "print(fl_sp_stamford)\n",
    "#\n",
    "float(fl_sp_stamford)\n",
    "#\n",
    "type(fl_sp_stamford)"
   ]
  },
  {
   "cell_type": "markdown",
   "metadata": {},
   "source": [
    "### 1.1b optioneel: zelf functie definieren\n",
    "- Definieer een functie waarmee je twee willekeurige getallen met elkaar kunt vermenigvuldigen. Hint: gebruik het internet om de oplossing te vinden.\n",
    "- Test je functie met de getallen 2 en 3."
   ]
  },
  {
   "cell_type": "code",
   "execution_count": 2,
   "metadata": {},
   "outputs": [
    {
     "name": "stdout",
     "output_type": "stream",
     "text": [
      "Enter your first number here: s\n"
     ]
    },
    {
     "ename": "ValueError",
     "evalue": "could not convert string to float: 's'",
     "output_type": "error",
     "traceback": [
      "\u001b[1;31m---------------------------------------------------------------------------\u001b[0m",
      "\u001b[1;31mValueError\u001b[0m                                Traceback (most recent call last)",
      "Cell \u001b[1;32mIn[2], line 3\u001b[0m\n\u001b[0;32m      1\u001b[0m \u001b[38;5;28;01mdef\u001b[39;00m \u001b[38;5;21mPlus\u001b[39m(x,y):\n\u001b[0;32m      2\u001b[0m     \u001b[38;5;28;01mreturn\u001b[39;00m x\u001b[38;5;241m*\u001b[39my\n\u001b[1;32m----> 3\u001b[0m x \u001b[38;5;241m=\u001b[39m \u001b[38;5;28mfloat\u001b[39m(\u001b[38;5;28minput\u001b[39m(\u001b[38;5;124m'\u001b[39m\u001b[38;5;124mEnter your first number here: \u001b[39m\u001b[38;5;124m'\u001b[39m))\n\u001b[0;32m      4\u001b[0m y \u001b[38;5;241m=\u001b[39m \u001b[38;5;28mfloat\u001b[39m(\u001b[38;5;28minput\u001b[39m(\u001b[38;5;124m'\u001b[39m\u001b[38;5;124mEnter your second number here: \u001b[39m\u001b[38;5;124m'\u001b[39m))\n\u001b[0;32m      5\u001b[0m \u001b[38;5;28mprint\u001b[39m(\u001b[38;5;124mf\u001b[39m\u001b[38;5;124m'\u001b[39m\u001b[38;5;124m \u001b[39m\u001b[38;5;132;01m{\u001b[39;00m\u001b[38;5;28mint\u001b[39m(x)\u001b[38;5;132;01m}\u001b[39;00m\u001b[38;5;124m keer \u001b[39m\u001b[38;5;132;01m{\u001b[39;00m\u001b[38;5;28mint\u001b[39m(y)\u001b[38;5;132;01m}\u001b[39;00m\u001b[38;5;124m is \u001b[39m\u001b[38;5;132;01m{\u001b[39;00m\u001b[38;5;28mint\u001b[39m(Plus(x,\u001b[38;5;250m \u001b[39my))\u001b[38;5;132;01m}\u001b[39;00m\u001b[38;5;124m'\u001b[39m)\n",
      "\u001b[1;31mValueError\u001b[0m: could not convert string to float: 's'"
     ]
    }
   ],
   "source": [
    "def Plus(x,y):\n",
    "    return x*y\n",
    "x = float(input('Enter your first number here: '))\n",
    "y = float(input('Enter your second number here: '))\n",
    "print(f' {int(x)} keer {int(y)} is {int(Plus(x, y))}')"
   ]
  },
  {
   "cell_type": "markdown",
   "metadata": {},
   "source": [
    "### 1.2 Help functie\n",
    "\n",
    "- Toon de help-informatie van de functie sum.\n",
    "- Pas de sum functie toe op de list sqm en gebruik een 'function argument' (functie parameter) om 1000 bij de uitkomst op te tellen.\n",
    "- Print het resultaat.\n",
    "- Maak een nieuwe list sqm2 waarin de waardes uit sqm in AFLOPENDE volgorde worden gezet. Gebruik de help functie indien nodig. \n",
    "- Print sqm2."
   ]
  },
  {
   "cell_type": "code",
   "execution_count": null,
   "metadata": {},
   "outputs": [],
   "source": [
    "sqm = [18526, 18569, 12288, 17092, 11307]\n",
    "# start coding here:\n",
    "print(sum(sqm, 1000))\n",
    "sqm2 = sorted(sqm, reverse=True)\n",
    "print(sqm2)"
   ]
  },
  {
   "cell_type": "markdown",
   "metadata": {},
   "source": [
    "## 2 Methods\n",
    "\n",
    "### 2.1 String methods\n",
    "\n",
    "- Print 'Barack Obama' (gebruik een method om hoofdletters te maken van de b en de o in first en last)\n",
    "- Print het aantal maal dat de letter a voorkomt in de woorden 'Barack Obama'. Pas hiervoor een method toe."
   ]
  },
  {
   "cell_type": "code",
   "execution_count": null,
   "metadata": {},
   "outputs": [],
   "source": [
    "first = 'barack'\n",
    "last = 'obama'\n",
    "#start coding here:\n",
    "print(first.capitalize(), last.capitalize())\n",
    "print(float(first.count('a')) + float(last.count('a')))\n",
    "\n",
    "\n"
   ]
  },
  {
   "cell_type": "markdown",
   "metadata": {},
   "source": [
    "- Leg het verschil uit tussen een functie en een method.\n",
    "- Wat zijn de beperkingen van methods?"
   ]
  },
  {
   "cell_type": "code",
   "execution_count": null,
   "metadata": {},
   "outputs": [],
   "source": [
    "#Antwoord:\n",
    "\n"
   ]
  },
  {
   "cell_type": "markdown",
   "metadata": {},
   "source": [
    "### 2.2 List methods \n",
    "\n",
    "De town list bevat een lijst met plaatsnamen. In fl_sp staan in dezelfde volgorde de oppervlaktes van deze winkels.\n",
    "- Gebruik een method om de index van skipton te bepalen. Wijs het resultaat toe aan de variable skipton_index. Print skipton_index.\n",
    "- Gebruik skipton_index om de oppervlakte van de winkel in skipton te bepalen in fl_sp."
   ]
  },
  {
   "cell_type": "code",
   "execution_count": null,
   "metadata": {},
   "outputs": [],
   "source": [
    "town = ['swinton', 'stamford', 'skipton', 'stratton', 'shepperton' ]\n",
    "fl_sp = [18526, 18569, 12288, 17092, 11307]\n",
    "#Start coding here:\n",
    "indxSkipton = town.index('skipton')\n",
    "fl_sp[indxSkipton]\n"
   ]
  },
  {
   "cell_type": "markdown",
   "metadata": {},
   "source": [
    "- Gebruik een method om het getal 21000 toe te voegen aan fl_sp. \n",
    "- Kopieer fl_sp naar fl_sp_rev\n",
    "- Keer de volgorde van de getallen in fl_sp_rev om met een method.\n",
    "- Voer de code tenminste twee maal uit. Wat gebeurt er?\n",
    "- De list zou slechts 1 maal het getal 21000 moeten bevatten. Gebruik een method om de overbodige elementen te verwijderen."
   ]
  },
  {
   "cell_type": "code",
   "execution_count": 14,
   "metadata": {},
   "outputs": [
    {
     "name": "stdout",
     "output_type": "stream",
     "text": [
      "['swinton', 18526, 'stamford', 18569, 'skipton', 12288, 'stratton', 17092, 'shepperton', 11307, 21000]\n"
     ]
    }
   ],
   "source": [
    "fl_sp.append(21000)\n",
    "print(fl_sp)\n",
    "fl_sp.remove(21000)"
   ]
  },
  {
   "cell_type": "code",
   "execution_count": 6,
   "metadata": {},
   "outputs": [
    {
     "name": "stdout",
     "output_type": "stream",
     "text": [
      "['swinton', 18526, 'stamford', 18569, 'skipton', 12288, 'stratton', 17092, 'shepperton', 11307, 21000]\n"
     ]
    }
   ],
   "source": []
  },
  {
   "cell_type": "markdown",
   "metadata": {},
   "source": [
    "- Herschrijf de code uit bovenstaande cel op zodanige wijze dat je de cel oneindig kunt blijven uitvoeren zonder dat je iedere keer een getal moet verwijderen."
   ]
  },
  {
   "cell_type": "code",
   "execution_count": null,
   "metadata": {},
   "outputs": [],
   "source": [
    "#Alternative and better way to code since it can run infinitely:\n"
   ]
  },
  {
   "cell_type": "markdown",
   "metadata": {},
   "source": [
    "### 3 Integratie opdracht\n",
    "\n",
    "De onderstaande lists staan in dezelde volgorde van winkel. \n",
    "- De eigenaar van de winkelketen wil weten welke winkel de kleinste oppervlakte heeft. Gebruik een tenminste 1 functie en 1 method om de plaatsnaam van de winkel met de kleinste oppervlakte te bepalen.\n",
    "- Print deze plaatsnaam."
   ]
  },
  {
   "cell_type": "code",
   "execution_count": 16,
   "metadata": {},
   "outputs": [
    {
     "name": "stdout",
     "output_type": "stream",
     "text": [
      "shepperton\n"
     ]
    }
   ],
   "source": [
    "town = ['swinton', 'stamford', 'skipton', 'stratton', 'shepperton' ]\n",
    "fl_sp = [18526, 18569, 12288, 17092, 11307]\n",
    "#Start coding here:\n",
    "indxmin = fl_sp.index(min(fl_sp))  \n",
    "print(town[indxmin])\n",
    "\n"
   ]
  }
 ],
 "metadata": {
  "kernelspec": {
   "display_name": "Python 3 (ipykernel)",
   "language": "python",
   "name": "python3"
  },
  "language_info": {
   "codemirror_mode": {
    "name": "ipython",
    "version": 3
   },
   "file_extension": ".py",
   "mimetype": "text/x-python",
   "name": "python",
   "nbconvert_exporter": "python",
   "pygments_lexer": "ipython3",
   "version": "3.11.4"
  }
 },
 "nbformat": 4,
 "nbformat_minor": 2
}
