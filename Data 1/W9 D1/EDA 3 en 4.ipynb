{
 "cells": [
  {
   "cell_type": "markdown",
   "id": "c3af2328",
   "metadata": {},
   "source": [
    "# EDA 3 en 4: Relaties in data en acties naar aanleiding van EDA\n",
    "In dit notebook ga je de relaties tussen variabelen in een dataset onderzoeken. Daarnaast ga je op basis van de EDA acties uitvoeren om de dataset te verbeteren. In de vorige les heb je gekeken naar tijdspatronen. In deze les ga je correlaties bepalen en interpreteren.\n",
    "\n",
    "Deze lesopdracht sluit aan op de volgende datacamp chapters:\n",
    "- Exploratory Data Analysis 3: https://campus.datacamp.com/courses/exploratory-data-analysis-in-python/relationships-in-data?ex=1 (het deel na het deel over tijdspatronen)\n",
    "- Exploratory Data Analysis 4: https://campus.datacamp.com/courses/exploratory-data-analysis-in-python/turning-exploratory-analysis-into-action?ex=1\n",
    "\n",
    "Het dataframe df heeft de volgende kolommen\n",
    "\n",
    "- date_hour: Je hebt per **uur** informatie over de periode van 1-1-2011 t/m 30-11-2012\n",
    "- holiday: Vakantiedag of geen vakantiedag\n",
    "- weathersit: Weersituatie:\n",
    "    1.\tHelder, licht bewolkt, deels bewolkt\n",
    "    2.\tMistig , mistig en licht bewolkt\n",
    "    3.\tLichte sneeuw, lichte regen, lichte regen en onweer, zwaar bewolkt, lichte regen en zwaar bewolkt\n",
    "    4.\tZware regen,  hagel,  zware mist, sneeuw.\n",
    "- temp: genormaliseerde temperatuur\n",
    "- atemp: genormaliseerde gevoelstemperatuur\n",
    "- hum: genormaliseerde luchtvochtigheid \n",
    "- windspeed: genormaliseerde windsnelheid. \n",
    "- cnt: het aantal verhuurde fietsen\n",
    "\n",
    "Deze dataset kan worden gebruikt om het aantal verhuurde fietsen per uur te voorspellen. Hierbij worden zowel tijdskenmerken gebruikt als andere kenmerken, zoals temperatuur.\n",
    "\n",
    "- Voer onderstaande cel uit om libraries te importeren en de dataset te laden."
   ]
  },
  {
   "cell_type": "code",
   "execution_count": 2,
   "id": "f1490b65",
   "metadata": {},
   "outputs": [],
   "source": [
    "import pandas as pd\n",
    "import numpy as np\n",
    "import matplotlib.pyplot as plt\n",
    "import seaborn as sns\n",
    "\n",
    "df = pd.read_csv('train.csv') "
   ]
  },
  {
   "cell_type": "markdown",
   "id": "8e1fe889",
   "metadata": {},
   "source": [
    "## 1 Correlatie\n",
    "- Maak een nieuw dataframe met daarin alleen de kolommen waarvoor het relevant is om correlaties voor te berekenen.\n",
    "- Toon een heatmap met daarin de correlatiecoefficienten tussen alle kolommen.\n",
    "- Leg uit wat een correlatiecoefficient is. Zoek dit eventueel op op het Internet.\n",
    "- Zoek op internet op hoe je de hoogtes en de richting van de correlatiecoefficienten kunt interpreteren.\n",
    "- Beschrijf in comments jouw bevindingen van de heatmap. Leg hierbij de nadruk op de correlaties tussen verhuurde aantallen ('cnt') en de overige kolommen. Waarom is het verstandig om hierop de nadruk te leggen?\n",
    "- Wat valt je op aan de variabele (kolom) 'weathersit'? Is deze variabele geschikt voor het bepalen van correlatie?"
   ]
  },
  {
   "cell_type": "code",
   "execution_count": null,
   "id": "b32e5526",
   "metadata": {},
   "outputs": [],
   "source": []
  },
  {
   "cell_type": "markdown",
   "id": "f23f3bec",
   "metadata": {},
   "source": [
    "### 2 Pairplot\n",
    "Een heatmap geeft inzicht in de correlatie tussen verschillende variabelen. Je kunt hiervoor ook sns.pairplot gebruiken. Dit geeft inzicht in de verdelingen van individuele variabelen **en** inzicht in de relaties tussen variabelen.\n",
    "- Maak een pairplot voor hetzelfde dataframe als bij de vorige vraag. \n",
    "- Beschrijf wat je ziet in dit overzicht. Leg daarbij uit hoe de scatterplots zich verhouden tot de heatmap van de vorige vraag."
   ]
  },
  {
   "cell_type": "code",
   "execution_count": null,
   "id": "b3933761",
   "metadata": {},
   "outputs": [],
   "source": []
  },
  {
   "cell_type": "markdown",
   "id": "b12a88ac",
   "metadata": {},
   "source": [
    "### 3 Categorieen\n",
    "Onderzoek de relatie tussen \"weathersit\" en \"cnt\". \n",
    "- Maak hiervoor minimaal 4 passende visualisaties, waarvan minimaal 1 met boxplots en 1 met een histogram.\n",
    "- Beschrijf in deze context de termen 'populatie' en 'steekproef'\n",
    "- In hoeverre kun je iets zeggen over weersituatie 4?"
   ]
  },
  {
   "cell_type": "code",
   "execution_count": null,
   "id": "41e273c4",
   "metadata": {},
   "outputs": [],
   "source": []
  },
  {
   "cell_type": "markdown",
   "id": "ff3b13f0",
   "metadata": {},
   "source": [
    "### 4 Nieuwe variabelen\n",
    "Er is een matige positieve lineaire relatie tussen temperatuur en het aantal verhuurde fietsen. Het zou kunnen dat het niet helemaal een lineaire relatie is. Het kan bijvoorbeeld zo zijn dat er bij hogere temperaturen meer wordt verhuurd maar dat boven een bepaalde temperatuur er geen toename meer is of zelfs een afname.\n",
    "\n",
    "Hieronder wordt het dataframe df opnieuw geladen en worden er tijdskenmerken toegevoegd.Voer onderstaande opdrachten uit met dit nieuwe dataframe.\n",
    "\n",
    "- Maak op basis van de kolom 'temp' de nieuwe kolom 'temp_group' aan. Deze kolom kent de volgende waardes:\n",
    "    - very cold\n",
    "    - cold\n",
    "    - normal\n",
    "    - hot\n",
    "    - very hot  \n",
    "\n",
    "Maak zelf keuzes voor hoe je de groepen indeelt. **hints**: maak gebruik van .quantile() en pd.cut(). De groepen hoeven niet even groot te zijn.\n",
    "\n",
    "- Toon hoeveel unieke waardes iedere temperatuurgroep heeft.\n",
    "- Maak een visualisatie waarmee je de relatie onderzoekt tussen 'temp_group' en 'cnt'\n",
    "- Wat maak je op uit deze visualisatie?\n",
    "- Pas de grenswaardes voor de groepen aan. Wat maak je nu op uit de visualisatie?  "
   ]
  },
  {
   "cell_type": "code",
   "execution_count": null,
   "id": "cbbbdbd5",
   "metadata": {},
   "outputs": [],
   "source": []
  },
  {
   "cell_type": "markdown",
   "id": "f7066256",
   "metadata": {},
   "source": [
    "### 5 Temperatuur per jaar\n",
    "We gaan onderzoeken of er verschillen zijn in temperatuur tussen 2011 en 2012. \n",
    "- Maak een visualisatie waarbij je de temperatuur ('temp') in 2011 vergelijkt met die van 2012.\n",
    "- Laat per jaar zien hoeveel unieke waardes iedere temperatuurgroep heeft.\n",
    "- Wat maak je hieruit op?"
   ]
  },
  {
   "cell_type": "code",
   "execution_count": null,
   "id": "94837926",
   "metadata": {},
   "outputs": [],
   "source": []
  },
  {
   "cell_type": "markdown",
   "id": "f7d137c3",
   "metadata": {},
   "source": [
    "### 6a Temperatuur per maand\n",
    "- Toon een dataframe waarin je per maand laat zien hoe vaak de temperatuur in een bepaalde temperatuurgroep viel. **Hint**: gebruik pd.crosstab()\n",
    "- Maak dataframes voor 2011 en 2012.\n",
    "- Toon hetzelfde dataframe met temperatuurgroep per maand nogmaals maar nu voor 2011 en 2012 in afzonderlijke dataframes.\n",
    "- Wat maak je hieruit op?\n"
   ]
  },
  {
   "cell_type": "code",
   "execution_count": null,
   "id": "88e6eb5f",
   "metadata": {},
   "outputs": [],
   "source": []
  },
  {
   "cell_type": "markdown",
   "id": "8992744b",
   "metadata": {},
   "source": [
    "### 6b Temperatuur en tijd van het jaar\n",
    "Bij de indeling in temperatuurgroepen hebben we geen rekening gehouden met de seizoenen. Als een uur in januari in de temperatuurgroep 'normal' valt dan is het voor januari juist erg warm. Dat kan betekenen dat er op die uren meer wordt verhuurd dan op een uur in de zomer waarop de temperatuur in de groep 'normal' valt.\n",
    "- Maak een dataframe waarmee je bovenstaande kunt onderzoeken. Hint: gebruik de kolommen 'month', 'cnt' en de temperatuurgroepen in pd.crosstab().\n",
    "- Wat maak je eruit op?"
   ]
  },
  {
   "cell_type": "code",
   "execution_count": null,
   "id": "bfbf6f66",
   "metadata": {},
   "outputs": [],
   "source": []
  },
  {
   "cell_type": "markdown",
   "id": "2647b6ef",
   "metadata": {},
   "source": [
    "### 7 temperatuur en verhuuraantallen\n",
    "We hebben hiervoor gezien dat de temperatuur in 2012 hoger was en dat de verhuurde aantallen hoger waren. We gaan nu kijken of de stijging in verhuuraantallen zou kunnen zijn **veroorzaakt** door de hogere temperaturen.\n",
    "- Maak een visualisatie waarin je de verhuurde aantallen ('cnt') per jaar en per temperatuurgroep toont. **Hint**: gebruik de hue-parameter.\n",
    "- Wat maak je op uit deze visualisatie?\n"
   ]
  },
  {
   "cell_type": "code",
   "execution_count": null,
   "id": "16f35fbb",
   "metadata": {},
   "outputs": [],
   "source": []
  },
  {
   "cell_type": "markdown",
   "id": "11600126",
   "metadata": {},
   "source": [
    "### 8 Hypotheses\n",
    "Je hebt deze les en de vorige les een uitgebreide EDA gedaan. We hebben nu sterke vermoedens dat er een aantal patronen in de data zitten. We hebben echter nog niet bewezen dat die patronen er echt zijn. Het kan ook een patroon zijn dat door toeval in de dataset terecht is gekomen. Bewijzen dat een patroon daadwerkelijk aanwezig is doen we door het toetsen van hypotheses. Dit doen we op ander moment. We kunnen wel al hypotheses opstellen.\n",
    "- Formuleer 5 hypotheses over deze dataset gebaseerd op de EDA die je hebt uitgevoerd. Gebruik hierbij ook de tijdspatronen uit de vorige lesopdracht."
   ]
  },
  {
   "cell_type": "code",
   "execution_count": null,
   "id": "81c8959a",
   "metadata": {},
   "outputs": [],
   "source": []
  }
 ],
 "metadata": {
  "kernelspec": {
   "display_name": "Python 3 (ipykernel)",
   "language": "python",
   "name": "python3"
  },
  "language_info": {
   "codemirror_mode": {
    "name": "ipython",
    "version": 3
   },
   "file_extension": ".py",
   "mimetype": "text/x-python",
   "name": "python",
   "nbconvert_exporter": "python",
   "pygments_lexer": "ipython3",
   "version": "3.10.12"
  }
 },
 "nbformat": 4,
 "nbformat_minor": 5
}
