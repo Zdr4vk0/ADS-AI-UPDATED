{
 "cells": [
  {
   "cell_type": "markdown",
   "metadata": {},
   "source": [
    "# Exploratory Data Analysis 2 en 3\n",
    "\n",
    "Deze lesopdracht sluit aan op de volgende datacamp chapters:\n",
    "- Exploratory Data Analysis 2: https://campus.datacamp.com/courses/exploratory-data-analysis-in-python/data-cleaning-and-imputation?ex=1\n",
    "- Exploratory Data Analysis 3: https://campus.datacamp.com/courses/exploratory-data-analysis-in-python/relationships-in-data?ex=1 (Alleen het deel over tijdspatronen)\n",
    "\n",
    "We gaan verder met de dataset van de vorige les. Dit is een dataset met klantgegevens. De kolommen zijn\n",
    "* Geboortejaar\n",
    "* Opleidingsniveau\n",
    "* Burgelijke staat\n",
    "* Inkomen\n",
    "* Aantal kinderen in huis\n",
    "* Aantal tieners in huis\n",
    "* Datum waarop een klant voor het eerst klant is geworden\n",
    "* Aantal dagen sinds laatste aankoop\n",
    "* Hoeveelheid geld uitgegeven aan wijn in de laatste 2 jaar\n",
    "* Hoeveelheid geld uitgegeven aan fruit de afgelopen 2 jaar\n",
    "* Hoeveelheid geld uitgegeven aan vlees de afgelopen 2 jaar\n",
    "* Hoeveelheid geld uitgegeven aan vis de afgelopen 2 jaar\n",
    "* Hoeveelheid geld uitgegeven aan snoep de afgelopen 2 jaar\n",
    "* Hoeveelheid geld uitgegeven aan goud de afgelopen 2 jaar\n",
    "* Indicator of de persoon de laatste keer mee deed aan een actie.\n",
    "\n",
    "Machine Learning modellen proberen zaken te voorspellen. Het uiteindelijke doel van deze dataset is voorspellen of klanten gebruik zullen maken van een actie. \n",
    " \n",
    "Voordat we machine learning toepassen voeren we altijd eerst een Exploratory Data Analysis (EDA) uit.In de vorige les hebben we gekeken naar de verdelingen van de kolommen in de dataset. We hebben dit nodig voor de onderwerpen van deze opdracht.\n",
    "\n",
    "- Voer onderstaande cel uit om het dataframe data aan te maken."
   ]
  },
  {
   "cell_type": "code",
   "execution_count": 1,
   "metadata": {},
   "outputs": [],
   "source": [
    "import pandas as pd\n",
    "import numpy as np\n",
    "import seaborn as sns\n",
    "import matplotlib.pyplot as plt\n",
    "data = pd.read_excel('shopping.xlsx')"
   ]
  },
  {
   "cell_type": "markdown",
   "metadata": {},
   "source": [
    "### 1 Verdelingen en missende waardes\n",
    "We hebben nu gezien hoe je inzicht kunt krijgen in de verdeling van data. Dit heb je onder andere nodig bij het vullen van \"missende waardes\" of bij het bepalen van \"outliers\".\n",
    "- Toon een overzicht met het aantal missende waardes per kolom.\n",
    "- Waarom kunnen missende waardes een probleem vormen?\n",
    "- Toon een histogram van de kolom(men) met missende waardes.\n",
    "- Toon de verdeling, mediaan en gemiddelde van de kolom(men) met missende waardes.\n",
    "- Wat is het meest geschikt om de missende waardes mee te vullen? Leg uit waarom.\n",
    "- Gebruik fillna() om de nieuwe kolom \"Income_filled\" aan te maken waarin de missende waardes zijn gevuld met de door jou gekozen waarde.\n",
    "- Toon een grafiek met de histogrammen van 'Income' en 'Income_filled'. Hoe zie je het resultaat van het vullen terug in deze grafiek?"
   ]
  },
  {
   "cell_type": "code",
   "execution_count": null,
   "metadata": {},
   "outputs": [],
   "source": []
  },
  {
   "cell_type": "markdown",
   "metadata": {},
   "source": [
    "### 2 Missende waardes vullen per groep\n",
    "- Maak twee grafieken (**Tip**: zorg ervoor dat de x-as met 'income' voor beide grafieken tot 200000 gaat):\n",
    "    - Een barchart met het gemiddelde inkomen per opleidingsniveau.\n",
    "    - Een boxplot voor het inkomen per opleidingsniveau\n",
    "- Wat valt je op? \n",
    "\n",
    "Het is mogelijk om missende waardes te vullen met verschillende getallen. Dus niet met de mediaan of het gemiddelde van de kolom. In plaats daarvan kun je ook werken met een \"groepsmediaan\" of \"groepsgemiddelde\".\n",
    "\n",
    "- Gebruik fillna() om de nieuwe kolom \"Income_filled_2\" aan te maken waarin de missende waardes zijn gevuld met een groepsgemiddelde of groepsmediaan. Bepaal zelf wat het beste is. Zie voor tips: https://stackoverflow.com/questions/19966018/filling-missing-values-by-mean-in-each-group\n",
    "- Toon een grafiek met de histogrammen van 'Income' en 'Income_filled' en 'Income_filled_2'. Hoe zie je het resultaat vam het vullen terug in deze grafiek?"
   ]
  },
  {
   "cell_type": "code",
   "execution_count": null,
   "metadata": {},
   "outputs": [],
   "source": []
  },
  {
   "cell_type": "markdown",
   "metadata": {},
   "source": [
    "### 3 Converteren en analyseren van categorieen\n",
    "- Maak een grafiek waarmee je laat zien of 'Marital_Status' invloed heeft op het al dan niet ingaan op een actie ('Responded to deal').  \n",
    "\n",
    "Als het goed is heb je ontdekt dat er veel categorieen zijn in de 'Marital_Status' kolom. Hierdoor zegt de visualisatie van de vorige vraag weinig.  \n",
    "- Breng het aantal categorieen terug naar een kleiner aantal logische categorieen.\n",
    "- Maak nogmaals, met de nieuwe categorieen, een grafiek waarmee je laat zien of 'Marital_Status' invloed heeft op het al dan niet ingaan op een actie ('Responded to deal').\n",
    "- Wat maak je op uit deze nieuwe grafiek?\n"
   ]
  },
  {
   "cell_type": "code",
   "execution_count": null,
   "metadata": {},
   "outputs": [],
   "source": []
  },
  {
   "cell_type": "markdown",
   "metadata": {},
   "source": [
    "### 4 Toevoegen van statistieken aan een dataframe\n",
    "Het kan nuttig zijn om bepaalde groepstatistieken berekend voor het hele dataframe ook in de regels van het dataframe te zetten.\n",
    "- Voeg de kolom 'mean_income_by_education' toe aan data waarin je het gemiddelde inkomen van het betreffende opleidingsniveau ('Education') toont.\n",
    "- Laat zien hoe vaak ieder gemiddeld inkomensniveau wordt getoond."
   ]
  },
  {
   "cell_type": "code",
   "execution_count": null,
   "metadata": {},
   "outputs": [],
   "source": []
  },
  {
   "cell_type": "markdown",
   "metadata": {},
   "source": [
    "### 5 Outliers verwijderen\n",
    "We hebben in diverse boxplots gezien dat er outliers zijn. Sommige outliers kunnen worden verwijderd en sommige kunnen blijven bestaan.\n",
    "\n",
    "- Bekijk de boxplots nogmaals. Van welke kolommen lijkt het zinvol om de outliers te verwijderen? Waarom?\n",
    "- Toon de regels uit data waarbij in de gekozen kolommen outliers zijn die kunnen worden verwijderd. Kies hierbij voor iedere kolom een grenswaarde en leg uit waarom je voor die grenswaarde kiest.\n",
    "- Verwijder de regels met outliers."
   ]
  },
  {
   "cell_type": "code",
   "execution_count": null,
   "metadata": {},
   "outputs": [],
   "source": []
  },
  {
   "cell_type": "markdown",
   "metadata": {},
   "source": [
    "# Tijdspatronen\n",
    "\n",
    "We gaan nu verder met herkennen van tijdspatronen. We gebruiken daarvoor het dataframe df.\n",
    "\n",
    "Onderstaande opdrachten zijn gebaseerd op het eerste deel van:\n",
    "- Exploratory Data Analysis 3: https://campus.datacamp.com/courses/exploratory-data-analysis-in-python/relationships-in-data?ex=1 (Alleen het deel over tijdspatronen)\n",
    "\n",
    "Het dataframe df heeft de volgende kolommen\n",
    "\n",
    "- date_hour: Je hebt per **uur** informatie over de periode van 1-1-2011 t/m 30-11-2012\n",
    "- holiday: Vakantiedag of geen vakantiedag\n",
    "- weathersit: Weersituatie:\n",
    "    1.\tHelder, licht bewolkt, deels bewolkt\n",
    "    2.\tMistig , mistig en licht bewolkt\n",
    "    3.\tLichte sneeuw, lichte regen, lichte regen en onweer, zwaar bewolkt, lichte regen en zwaar bewolkt\n",
    "    4.\tZware regen,  hagel,  zware mist, sneeuw.\n",
    "- temp: genormaliseerde temperatuur\n",
    "- atemp: genormaliseerde gevoelstemperatuur\n",
    "- hum: genormaliseerde luchtvochtigheid \n",
    "- windspeed: genormaliseerde windsnelheid. \n",
    "- cnt: het aantal verhuurde fietsen\n",
    "\n",
    "Deze dataset kan worden gebruikt om het aantal verhuurde fietsen per uur te voorspellen. Hierbij worden zowel tijdskenmerken gebruikt als andere kenmerken, zoals temperatuur.\n",
    "\n",
    "- Voer onderstaande cel uit om de dataset te laden."
   ]
  },
  {
   "cell_type": "code",
   "execution_count": 5,
   "metadata": {},
   "outputs": [],
   "source": [
    "df = pd.read_csv('train.csv') "
   ]
  },
  {
   "cell_type": "markdown",
   "metadata": {},
   "source": [
    "### 6 datum en tijdsinstelling\n",
    "- Bekijk de datatypes van de kolommen df. Welke kolom(men) heeft (hebben) nog niet de juiste datum- en tijdsinstellingen?\n",
    "- Pas op 2 manieren het datatype hiervan aan naar het juiste type:\n",
    "    - Op de manier zoals in Datacamp.\n",
    "    - Door de dataset op een andere manier in te lezen via pd.read_csv()."
   ]
  },
  {
   "cell_type": "code",
   "execution_count": null,
   "metadata": {},
   "outputs": [],
   "source": []
  },
  {
   "cell_type": "markdown",
   "metadata": {},
   "source": [
    "### 7 Tijdskenmerken toevoegen\n",
    "Vanuit kolommen met een datumtijd instelling kunnen allerlei tijdskenmerken worden afgeleid.\n",
    "\n",
    "Voeg onderstaande tijdskenmerken toe:\n",
    "- uur\n",
    "- dagnummer van de maand\n",
    "- dagnummer van de week\n",
    "- dagnaam van de week\n",
    "- weeknummer\n",
    "- maandnummer\n",
    "- jaar\n",
    "- datum (zonder uur)"
   ]
  },
  {
   "cell_type": "code",
   "execution_count": null,
   "metadata": {},
   "outputs": [],
   "source": []
  },
  {
   "cell_type": "markdown",
   "metadata": {},
   "source": [
    "### 8 Tijdspatronen\n",
    "Visualiseer de relatie tussen de tijdselementen van de vorige vraag en het aantal verhuurde fietsen. Er zijn meerdere patronen terug te vinden. Onderzoek bijvoorbeeld of er maanden zijn waarop de verhuurde aantallen hoger zijn dan in andere maanden. Onderzoek ook of de gevonden patronen per jaar verschillen of anders zijn in de vakantieperiodes.\n",
    "- Maak gebruik van seaborn om minimaal 5 grafieken te maken die deze relaties visualiseren.\n",
    "- Beschrijf in comments in eigen woorden welke patronen je hebt gevonden.\n",
    "- In hoeverre zijn de gevonden relaties ook lineaire relaties?\n",
    "- Wanneer is correlatie een geschikte maatstaf voor het beoordelen van relaties tussen variabelen?"
   ]
  },
  {
   "cell_type": "code",
   "execution_count": null,
   "metadata": {},
   "outputs": [],
   "source": []
  }
 ],
 "metadata": {
  "kernelspec": {
   "display_name": "Python 3 (ipykernel)",
   "language": "python",
   "name": "python3"
  },
  "language_info": {
   "codemirror_mode": {
    "name": "ipython",
    "version": 3
   },
   "file_extension": ".py",
   "mimetype": "text/x-python",
   "name": "python",
   "nbconvert_exporter": "python",
   "pygments_lexer": "ipython3",
   "version": "3.10.12"
  },
  "nbTranslate": {
   "displayLangs": [
    "*"
   ],
   "hotkey": "alt-t",
   "langInMainMenu": true,
   "sourceLang": "en",
   "targetLang": "fr",
   "useGoogleTranslate": true
  }
 },
 "nbformat": 4,
 "nbformat_minor": 2
}
