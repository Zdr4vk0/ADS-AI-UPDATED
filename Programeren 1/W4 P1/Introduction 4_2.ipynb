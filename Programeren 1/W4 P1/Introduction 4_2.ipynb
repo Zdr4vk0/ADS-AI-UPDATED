{
 "cells": [
  {
   "cell_type": "markdown",
   "metadata": {},
   "source": [
    "# Numpy 2"
   ]
  },
  {
   "cell_type": "markdown",
   "metadata": {},
   "source": [
    "## 1. Numpy vs Pandas\n",
    "\n",
    "Bij het vak Data 1 heb je al veel gewerkt met Pandas Dataframes. Pandas is gebouwd op Numpy en ze lijken daarom in veel opzichten op elkaar.\n",
    "\n",
    "- Zet de waardes uit het dataframe om in het numpy array **npa**.\n",
    "- Maak een nieuwe array met daarin de eerste 10 regels van de derde kolom van **npa**. Geef deze array een logische betekenisvolle naam."
   ]
  },
  {
   "cell_type": "code",
   "execution_count": 10,
   "metadata": {
    "scrolled": true
   },
   "outputs": [
    {
     "data": {
      "text/plain": [
       "array([1437, 1544, 2039, 2055, 2141, 2309, 3800, 4214, 4857, 4860],\n",
       "      dtype=object)"
      ]
     },
     "execution_count": 10,
     "metadata": {},
     "output_type": "execute_result"
    }
   ],
   "source": [
    "import pandas as pd\n",
    "import numpy as np\n",
    "df = pd.read_csv('storedata_cleanA.csv', sep=';')\n",
    "# Zet de waardes uit het dataframe om in een numpy array.\n",
    "npa = df.values\n",
    "# eerste 10 van derde kolom:\n",
    "npa[:10, 2]\n"
   ]
  },
  {
   "cell_type": "code",
   "execution_count": null,
   "metadata": {},
   "outputs": [],
   "source": []
  },
  {
   "cell_type": "markdown",
   "metadata": {},
   "source": [
    "# 2 Geavanceerd selecteren\n",
    "Gebruik **npa** om de onderstaande vragen te beantwoorden. **Hint:** in df vind je de juiste kolomnummers.\n",
    "\n",
    "1) Toon de manager en de landen van de winkels die NIET in de 'UK' liggen.\n",
    "2) Toon de store id, location en profit van de winkels die een bovengemiddelde winst (profit) hebben.\n",
    "3) Toon de store id, location en profit van de winkels die een bovengemiddelde winst (profit) hebben EN die 'High Street' als location hebben.\n",
    "4) Toon de store id, location, profit van de winkels die een bovengemiddelde winst (profit) hebben EN die of 'High Street' of 'Retail Park' als location hebben.\n",
    "5) Toon de store id, location, profit van de winkels die een bovengemiddelde winst (profit) hebben EN die 'High Street' als location hebben. Toon daarbij ook dezelfde kolommen van de winkles die 'Retail Park' als location hebben."
   ]
  },
  {
   "cell_type": "code",
   "execution_count": 28,
   "metadata": {},
   "outputs": [
    {
     "name": "stdout",
     "output_type": "stream",
     "text": [
      "[[1437 'Retail Park' 3410865]\n",
      " [2309 'Retail Park' 3058134]\n",
      " [4214 'Retail Park' 3345936]\n",
      " [4860 'High Street' 3153278]\n",
      " [7491 'Retail Park' 3056804]\n",
      " [9171 'Retail Park' 3138911]\n",
      " [13984 'High Street' 3321899]\n",
      " [16727 'High Street' 3252148]\n",
      " [16741 'High Street' 3041618]\n",
      " [19296 'High Street' 4217291]\n",
      " [20971 'High Street' 3516397]\n",
      " [24737 'Retail Park' 4253984]\n",
      " [29319 'Retail Park' 4160531]\n",
      " [32610 'Retail Park' 3100521]\n",
      " [37916 'Retail Park' 4137224]\n",
      " [40352 'Retail Park' 3572475]\n",
      " [40676 'High Street' 3121837]\n",
      " [44476 'Retail Park' 4300537]\n",
      " [51992 'Retail Park' 3625088]\n",
      " [55717 'Retail Park' 3175101]\n",
      " [55967 'High Street' 3029751]\n",
      " [58249 'High Street' 3197934]\n",
      " [58882 'Retail Park' 3135133]\n",
      " [59794 'Retail Park' 3524409]\n",
      " [61950 'High Street' 3337861]\n",
      " [66482 'Retail Park' 4237135]\n",
      " [73474 'Retail Park' 3192066]\n",
      " [78368 'Retail Park' 3487542]\n",
      " [83480 'Retail Park' 3654694]\n",
      " [84225 'Retail Park' 3598894]\n",
      " [95915 'Retail Park' 3584813]\n",
      " [99854 'High Street' 3485295]]\n"
     ]
    }
   ],
   "source": [
    "#1\n",
    "#df.info()\n",
    "#print(npa[npa[:, 1] != 'UK'][:, 3])\n",
    "\n",
    "#4\n",
    "gemiddelde = npa[:, 18].mean()\n",
    "print(npa[(npa[:, 18]> gemiddelde)& ((npa[:, 9] == 'Retail Park')|(npa[:, 9] == 'High Street'))]npa[:, [2, 9, 18]])\n",
    "print(npa[(npa[:, 18]> gemiddelde)& ((npa[:, 9] == 'Retail Park') | (npa[:, 9] == 'High Street'))][:, [2, 9, 18]])\n"
   ]
  },
  {
   "cell_type": "code",
   "execution_count": null,
   "metadata": {},
   "outputs": [],
   "source": [
    "\n"
   ]
  },
  {
   "cell_type": "markdown",
   "metadata": {},
   "source": [
    "# 3 Kolommen omrekenen:\n",
    "- Maak een nieuwe numpy array **profit_eur** aan waarin je de \"profit\" omrekent van GBP naar EUR."
   ]
  },
  {
   "cell_type": "code",
   "execution_count": 101,
   "metadata": {},
   "outputs": [
    {
     "name": "stdout",
     "output_type": "stream",
     "text": [
      "[4058929.3499999996 4800520.6899999995 2734393.9 2854798.1 2722999.65\n",
      " 3639179.46 3323860.4 3981663.84 3709473.9499999997 3752400.82 3637596.76\n",
      " 2143926.61 4519564.069999999 3735304.09 3241640.92 2835473.69\n",
      " 3953059.8099999996 3336601.73 4332346.13 3659668.88 4155471.67\n",
      " 3870056.1199999996 3619525.42 4447584.54 5018576.29 2389951.9699999997\n",
      " 4184512.4299999997 4709107.27 3501978.4099999997 2668322.7199999997\n",
      " 3113500.53 2967830.25 2622752.86 2925954.15 5062240.96 4980514.14\n",
      " 4951031.89 3689619.9899999998 3863875.26 2482022.27 4452874.09\n",
      " 2983030.1199999996 2848704.11 4923296.56 4251245.25 3714986.03 3330898.06\n",
      " 3221808.38 4970203.9799999995 2177248.9899999998 3190520.9 2869610.03\n",
      " 5117639.029999999 4472036.66 2658699.19 2787252.51 2503793.32 2863282.8\n",
      " 3379132.33 3369012.57 3608409.63 4313854.72 2614140.83 3970336.23\n",
      " 3308192.86 3778370.19 5458891.76 3605403.69 1799817.88 4068294.65\n",
      " 3006673.04 2777388.6 3805541.46 3730808.27 4549255.76 3020650.78\n",
      " 2207958.13 2690397.2199999997 4194046.71 4413740.9399999995 3972054.59\n",
      " 2865398.6199999996 3879728.44 2133442.71 3337180.07 3414502.6999999997\n",
      " 2883293.84 5042190.649999999 3578389.5 4782569.54 3038618.59 4542894.02\n",
      " 2862866.3 2099182.61 5704375.67 3446670.78 3798558.54 3679694.1999999997\n",
      " 2879779.77 3214861.1599999997 4291777.84 3932706.05 4359973.17 4719488.83\n",
      " 3155048.19 4150174.98 2385131.28 3692020.2199999997 2726324.51 4635428.42\n",
      " 4452274.33 3099444.25 1962213.6099999999 1981977.13 4349085.859999999\n",
      " 4282683.859999999 2584995.35 2852914.33 2772613.13 4099402.44 3051586.02\n",
      " 3015632.55 3517712.59 2936852.17 4630926.649999999 4163769.54 3417681.19\n",
      " 4166300.67 4491537.1899999995 4265927.47 3047612.61 3072525.26\n",
      " 3081313.4099999997 3074668.4499999997 1131599.56 4147501.05]\n"
     ]
    }
   ],
   "source": [
    "#4\n"
   ]
  }
 ],
 "metadata": {
  "kernelspec": {
   "display_name": "Python 3 (ipykernel)",
   "language": "python",
   "name": "python3"
  },
  "language_info": {
   "codemirror_mode": {
    "name": "ipython",
    "version": 3
   },
   "file_extension": ".py",
   "mimetype": "text/x-python",
   "name": "python",
   "nbconvert_exporter": "python",
   "pygments_lexer": "ipython3",
   "version": "3.11.4"
  }
 },
 "nbformat": 4,
 "nbformat_minor": 2
}
