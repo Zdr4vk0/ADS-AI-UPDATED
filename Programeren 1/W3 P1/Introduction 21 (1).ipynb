{
 "cells": [
  {
   "cell_type": "markdown",
   "metadata": {},
   "source": [
    "# Introduction to Python 2"
   ]
  },
  {
   "cell_type": "markdown",
   "metadata": {},
   "source": [
    "## 1. Aanmaken lists\n",
    "### 1.1 Lists met 1 datatype\n",
    "\n",
    "\n",
    "- Wijs de winkeloppervlaktes (floor space) van onderstaande variabelen toe aan de list fl_sp.\n",
    "- Print fl_sp."
   ]
  },
  {
   "cell_type": "code",
   "execution_count": 1,
   "metadata": {},
   "outputs": [],
   "source": [
    "swinton = 18526\n",
    "stamford = 18569\n",
    "skipton = 12288\n",
    "stratton = 17092\n",
    "shepperton = 11307"
   ]
  },
  {
   "cell_type": "markdown",
   "metadata": {},
   "source": [
    "### 1.2 Lists met verschillende types\n",
    "\n",
    "- Pas fl_sp aan door de plaatsnamen toe te voegen aan de list. Zet iedere plaatsnaam op de juiste wijze voor de betreffende winkeloppervlakte. \n",
    "- print fl_sp."
   ]
  },
  {
   "cell_type": "code",
   "execution_count": null,
   "metadata": {},
   "outputs": [],
   "source": []
  },
  {
   "cell_type": "markdown",
   "metadata": {},
   "source": [
    "### 1.3 Lists binnen lists\n",
    "- Pas fl_sp zodanig aan dat het bestaat uit verschillende lists. Iedere sub-list is een combinatie van de plaatsnaam en de betreffende vloeroppervlakte.\n",
    "- Print fl_sp."
   ]
  },
  {
   "cell_type": "code",
   "execution_count": null,
   "metadata": {
    "scrolled": true
   },
   "outputs": [],
   "source": []
  },
  {
   "cell_type": "markdown",
   "metadata": {},
   "source": [
    "- Welke manier van het opzetten van de list is het beste? Waarom?"
   ]
  },
  {
   "cell_type": "markdown",
   "metadata": {},
   "source": [
    "Antwoord: \n"
   ]
  },
  {
   "cell_type": "markdown",
   "metadata": {},
   "source": [
    "## 2 Selecteren van elementen\n",
    "\n",
    "### 2.1 selecteren van 1 element\n",
    "\n",
    "- Voer de code in onderstaande cel uit om de list fl_sp op te zetten."
   ]
  },
  {
   "cell_type": "code",
   "execution_count": null,
   "metadata": {},
   "outputs": [],
   "source": [
    "fl_sp = ['swinton', 18526, 'stamford', 18569, 'skipton', 12288, 'stratton', 17092, 'shepperton', 11307]\n",
    "print(fl_sp)"
   ]
  },
  {
   "cell_type": "markdown",
   "metadata": {},
   "source": [
    "- Print de volgende elementen van fl_sp (hint: houd rekening met \"zero-indexing\"):\n",
    "    - Het derde element\n",
    "    - Het eerste element\n",
    "    - Het laatste element\n",
    "    - Het op 1 na laatste element"
   ]
  },
  {
   "cell_type": "code",
   "execution_count": null,
   "metadata": {},
   "outputs": [],
   "source": []
  },
  {
   "cell_type": "markdown",
   "metadata": {},
   "source": [
    "- Bereken de gemiddelde winkeloppervlakte en wijs het resultaat toe aan de variable avg.\n",
    "- Print de gemiddelde winkeloppervlakte."
   ]
  },
  {
   "cell_type": "code",
   "execution_count": null,
   "metadata": {},
   "outputs": [],
   "source": []
  },
  {
   "cell_type": "markdown",
   "metadata": {},
   "source": [
    "- Zoek op het internet naar een manier om op een makkelijkere manier alle getallen uit de list fl_sp te filteren.\n",
    "- Gebruik deze manier om nogmaals het gemiddelde te berekenen."
   ]
  },
  {
   "cell_type": "code",
   "execution_count": null,
   "metadata": {},
   "outputs": [],
   "source": []
  },
  {
   "cell_type": "markdown",
   "metadata": {},
   "source": [
    "### 2.2 Selecteren van meerdere elementen (slicing)\n",
    "\n",
    "- Print de laatste 4 elementen.\n",
    "- Print het derde element tot en met het zesde element.\n",
    "- Print de eerste twee elementen."
   ]
  },
  {
   "cell_type": "code",
   "execution_count": null,
   "metadata": {},
   "outputs": [],
   "source": []
  },
  {
   "cell_type": "markdown",
   "metadata": {},
   "source": [
    "### 2.3 Selecteren van lists binnen lists\n",
    "- Voer de code in onderstaande cel uit om de list fl_sp op te zetten."
   ]
  },
  {
   "cell_type": "code",
   "execution_count": 27,
   "metadata": {},
   "outputs": [
    {
     "name": "stdout",
     "output_type": "stream",
     "text": [
      "[['swinton', 18526], ['stamford', 18569], ['skipton', 12288], ['stratton', 17092], ['shepperton', 11307]]\n"
     ]
    }
   ],
   "source": [
    "fl_sp = [['swinton', swinton] , ['stamford', stamford] , ['skipton', skipton], ['stratton', stratton], ['shepperton', shepperton]]\n",
    "print(fl_sp)"
   ]
  },
  {
   "cell_type": "markdown",
   "metadata": {},
   "source": [
    "- Print de winkeloppervlakte van Stratton op twee manieren: (1) vanaf het begin van de list en (2) vanaf het einde van de list."
   ]
  },
  {
   "cell_type": "code",
   "execution_count": null,
   "metadata": {},
   "outputs": [],
   "source": []
  },
  {
   "cell_type": "markdown",
   "metadata": {},
   "source": [
    "## 3 Manipuleren van lists\n",
    "### 3.1 Vervangen, toevoegen en verwijderen van elementen\n",
    "\n",
    "- Voer de code in onderstaande cel uit om de list fl_sp op te zetten."
   ]
  },
  {
   "cell_type": "code",
   "execution_count": 30,
   "metadata": {},
   "outputs": [
    {
     "name": "stdout",
     "output_type": "stream",
     "text": [
      "['swinton', 18526, 'stamford', 18569, 'skipton', 12288, 'stratton', 17092, 'shepperton', 11307]\n"
     ]
    }
   ],
   "source": [
    "fl_sp = ['swinton', 18526, 'stamford', 18569, 'skipton', 12288, 'stratton', 17092, 'shepperton', 11307]\n",
    "print(fl_sp)"
   ]
  },
  {
   "cell_type": "markdown",
   "metadata": {},
   "source": [
    "- Vervang stratton door london.\n",
    "- Vervang de oppervlakte van london door 25000.\n",
    "- Print fl_sp."
   ]
  },
  {
   "cell_type": "code",
   "execution_count": null,
   "metadata": {},
   "outputs": [],
   "source": []
  },
  {
   "cell_type": "markdown",
   "metadata": {},
   "source": [
    "- Maak een nieuwe list new_fl_sp waarin je jouw woonplaats met een realistische vloeroppervlakte toevoegt aan fl_sp.\n",
    "- Print the new list."
   ]
  },
  {
   "cell_type": "code",
   "execution_count": null,
   "metadata": {},
   "outputs": [],
   "source": []
  },
  {
   "cell_type": "markdown",
   "metadata": {},
   "source": [
    "- Verwijder shepperton en de bijbehorende oppervlakte uit new_fl_sp."
   ]
  },
  {
   "cell_type": "code",
   "execution_count": null,
   "metadata": {},
   "outputs": [],
   "source": []
  },
  {
   "cell_type": "markdown",
   "metadata": {},
   "source": [
    "Onderstaande cel bevat code waarin new_list wordt aangemaakt die gelijk is aan new_fl_sp. Zodra het laatste element van new_list wordt verwijderd dan wordt het laatse element van new_fl_sp ook verwijderd. \n",
    "\n",
    "- Pas de code zodanig aan dat als een van de lists wordt aangepast de andere list NIET verandert."
   ]
  },
  {
   "cell_type": "code",
   "execution_count": null,
   "metadata": {},
   "outputs": [],
   "source": [
    "#original\n",
    "new_list1 = new_fl_sp\n",
    "del(new_list1[-1])\n",
    "print(new_fl_sp)"
   ]
  },
  {
   "cell_type": "markdown",
   "metadata": {},
   "source": [
    "## 4 Integratie opdracht\n",
    "Onlangs zijn de volgende winkels met de betreffende oppervlaktes geopend:\n",
    "\n",
    "- sandbach: 15738\n",
    "- stone: 17242\n",
    "- sedbergh: 11198\n",
    "\n",
    "Opdracht:\n",
    "- Voeg deze 3 winkels toe aan fl_sp.\n",
    "- Print de gemiddelde oppervlakte van deze 3 nieuwe winkels.\n",
    "- Maak een nieuwe list die hetzelde is als fl_sp. Als de nieuwe list wijzigt dan mag de andere list NIET veranderen.\n",
    "- Verander in de NIEUWE list de oppervlakte van stamford in 21000. \n",
    "- Print de nieuwe list.\n",
    "- Print de volgende zin waarbij je gebruik maakt van list elements: \"stamford has a floor space of 18569 sqm\"."
   ]
  },
  {
   "cell_type": "code",
   "execution_count": 3,
   "metadata": {},
   "outputs": [],
   "source": [
    "# adding 3 stores:\n",
    "\n",
    "\n",
    "# calculate average:\n",
    "\n",
    "\n",
    "# create new list:\n",
    "\n",
    "\n",
    "# Change floor space:\n",
    "\n",
    "\n",
    "# Print sentence\n",
    "\n"
   ]
  }
 ],
 "metadata": {
  "kernelspec": {
   "display_name": "Python 3 (ipykernel)",
   "language": "python",
   "name": "python3"
  },
  "language_info": {
   "codemirror_mode": {
    "name": "ipython",
    "version": 3
   },
   "file_extension": ".py",
   "mimetype": "text/x-python",
   "name": "python",
   "nbconvert_exporter": "python",
   "pygments_lexer": "ipython3",
   "version": "3.10.12"
  }
 },
 "nbformat": 4,
 "nbformat_minor": 2
}
