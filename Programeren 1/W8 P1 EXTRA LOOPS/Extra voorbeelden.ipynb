{
 "cells": [
  {
   "cell_type": "markdown",
   "metadata": {},
   "source": [
    "### Extra voorbeelden van loops i.c.m. control flow\n",
    "\n",
    "Soorten getallen:\n",
    "\n",
    "    - > 10 :  'groot'\n",
    "    \n",
    "    - > 5 : 'gemiddeld'\n",
    "    \n",
    "    - <= 5 : 'klein' "
   ]
  },
  {
   "cell_type": "markdown",
   "metadata": {},
   "source": [
    "Control flow: if en else"
   ]
  },
  {
   "cell_type": "code",
   "execution_count": 1,
   "metadata": {},
   "outputs": [
    {
     "name": "stdout",
     "output_type": "stream",
     "text": [
      "klein\n"
     ]
    }
   ],
   "source": [
    "getal = 8\n",
    "if getal > 10:\n",
    "    print('groot')\n",
    "else:\n",
    "    print('klein')"
   ]
  },
  {
   "cell_type": "markdown",
   "metadata": {},
   "source": [
    "Control flow: if,elif en else"
   ]
  },
  {
   "cell_type": "code",
   "execution_count": 2,
   "metadata": {},
   "outputs": [
    {
     "name": "stdout",
     "output_type": "stream",
     "text": [
      "gemiddeld\n"
     ]
    }
   ],
   "source": [
    "getal = 8\n",
    "if getal > 10:\n",
    "    print('groot')\n",
    "elif getal > 5:\n",
    "    print('gemiddeld')\n",
    "else:\n",
    "    print('klein')"
   ]
  },
  {
   "cell_type": "markdown",
   "metadata": {},
   "source": [
    "Loop in combinatie met control flow"
   ]
  },
  {
   "cell_type": "code",
   "execution_count": 3,
   "metadata": {},
   "outputs": [
    {
     "name": "stdout",
     "output_type": "stream",
     "text": [
      "klein\n",
      "groot\n",
      "gemiddeld\n",
      "groot\n",
      "gemiddeld\n",
      "klein\n"
     ]
    }
   ],
   "source": [
    "getallen = [5, 12, 7, 15, 9, 1]\n",
    "for getal in getallen:\n",
    "    if getal > 10:\n",
    "        print('groot')\n",
    "    elif getal > 5:\n",
    "        print('gemiddeld')\n",
    "    else:\n",
    "        print('klein')"
   ]
  },
  {
   "cell_type": "markdown",
   "metadata": {},
   "source": [
    "Loop in combinatie met control flow en maken van list"
   ]
  },
  {
   "cell_type": "code",
   "execution_count": 4,
   "metadata": {},
   "outputs": [
    {
     "name": "stdout",
     "output_type": "stream",
     "text": [
      "[5, 1] [12, 15] [7, 9]\n"
     ]
    }
   ],
   "source": [
    "kleine_getallen = []\n",
    "grote_getallen = []\n",
    "gemiddelde_getallen = []\n",
    "\n",
    "\n",
    "for getal in getallen:\n",
    "    if getal > 10:\n",
    "        grote_getallen.append(getal)\n",
    "    elif getal > 5:\n",
    "        gemiddelde_getallen.append(getal)\n",
    "    else:\n",
    "        kleine_getallen.append(getal)\n",
    "        \n",
    "print(kleine_getallen, grote_getallen, gemiddelde_getallen)"
   ]
  },
  {
   "cell_type": "markdown",
   "metadata": {},
   "source": [
    "Loop in combinatie met dubbele control flow en maken van dictionary"
   ]
  },
  {
   "cell_type": "code",
   "execution_count": 5,
   "metadata": {},
   "outputs": [
    {
     "data": {
      "text/plain": [
       "{'klein': 2, 'groot': 2, 'gemiddeld': 2}"
      ]
     },
     "execution_count": 5,
     "metadata": {},
     "output_type": "execute_result"
    }
   ],
   "source": [
    "aantal_soort = {}\n",
    "\n",
    "for getal in getallen:\n",
    "    if getal > 10:\n",
    "        soort = 'groot'\n",
    "        if soort in aantal_soort:\n",
    "            aantal_soort[soort] += 1\n",
    "        else:\n",
    "            aantal_soort[soort] = 1\n",
    "    elif getal > 5:\n",
    "        soort = 'gemiddeld'\n",
    "        if soort in aantal_soort:\n",
    "            aantal_soort[soort] += 1\n",
    "        else:\n",
    "            aantal_soort[soort] = 1\n",
    "    else:\n",
    "        soort = 'klein'\n",
    "        if soort in aantal_soort:\n",
    "            aantal_soort[soort] += 1\n",
    "        else:\n",
    "            aantal_soort[soort] = 1\n",
    "aantal_soort"
   ]
  },
  {
   "cell_type": "code",
   "execution_count": null,
   "metadata": {},
   "outputs": [],
   "source": []
  }
 ],
 "metadata": {
  "kernelspec": {
   "display_name": "Python 3",
   "language": "python",
   "name": "python3"
  },
  "language_info": {
   "codemirror_mode": {
    "name": "ipython",
    "version": 3
   },
   "file_extension": ".py",
   "mimetype": "text/x-python",
   "name": "python",
   "nbconvert_exporter": "python",
   "pygments_lexer": "ipython3",
   "version": "3.8.5"
  }
 },
 "nbformat": 4,
 "nbformat_minor": 4
}
