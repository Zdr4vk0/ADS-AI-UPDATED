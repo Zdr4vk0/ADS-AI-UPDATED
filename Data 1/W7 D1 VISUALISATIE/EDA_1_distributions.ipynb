{
 "cells": [
  {
   "cell_type": "markdown",
   "metadata": {},
   "source": [
    "# Exploratory Data Analysis 1 en 2\n",
    "\n",
    "Deze lesopdracht sluit aan op de volgende datacamp chapters:\n",
    "\n",
    "- Exploratory Data Analysis 1: https://campus.datacamp.com/courses/exploratory-data-analysis-in-python/getting-to-know-a-dataset?ex=1\n",
    "- Understanding Data Visualization 1: https://campus.datacamp.com/courses/understanding-data-visualization/visualizing-distributions?ex=1\n",
    "\n",
    "Dit is een dataset met klantgegevens. De kolommen zijn\n",
    "* Geboortejaar\n",
    "* Opleidingsniveau\n",
    "* Burgelijke staat\n",
    "* Inkomen\n",
    "* Aantal kinderen in huis\n",
    "* Aantal tieners in huis\n",
    "* Datum waarop een klant voor het eerst klant is geworden\n",
    "* Aantal dagen sinds laatste aankoop\n",
    "* Hoeveelheid geld uitgegeven aan wijn in de laatste 2 jaar\n",
    "* Hoeveelheid geld uitgegeven aan fruit de afgelopen 2 jaar\n",
    "* Hoeveelheid geld uitgegeven aan vlees de afgelopen 2 jaar\n",
    "* Hoeveelheid geld uitgegeven aan vis de afgelopen 2 jaar\n",
    "* Hoeveelheid geld uitgegeven aan snoep de afgelopen 2 jaar\n",
    "* Hoeveelheid geld uitgegeven aan goud de afgelopen 2 jaar\n",
    "* Indicator of de persoon de laatste keer mee deed aan een actie.\n",
    "\n",
    "Machine Learning modellen proberen zaken te voorspellen. Het uiteindelijke doel van deze dataset is voorspellen of klanten gebruik zullen maken van een actie. \n",
    " \n",
    "Voordat we machine learning toepassen voeren we altijd eerst een Exploratory Data Analysis (EDA) uit."
   ]
  },
  {
   "cell_type": "markdown",
   "metadata": {},
   "source": [
    "De eerste stap van een EDA is \"Getting to know the data\". Dit bestaat uit:\n",
    "1) Initiële exploratie\n",
    "2) Data validatie\n",
    "3) Data samenvatting (summarization) \n",
    "  \n",
    "- Voer onderstaande cel uit om de data te laden."
   ]
  },
  {
   "cell_type": "code",
   "execution_count": 1,
   "metadata": {},
   "outputs": [],
   "source": [
    "import pandas as pd\n",
    "import numpy as np\n",
    "data = pd.read_excel('shopping.xlsx')"
   ]
  },
  {
   "cell_type": "markdown",
   "metadata": {},
   "source": [
    "### 1 Waarom EDA?\n",
    "In Datacamp worden twee redenen genoemd voor het uitvoeren van een EDA:\n",
    "1) Inzicht verkrijgen\n",
    "2) Hypotheses formuleren\n",
    "\n",
    "- Bekijk de dataset en schrijf in comments op welke inzichten je uit deze dataset zou kunnen halen."
   ]
  },
  {
   "cell_type": "code",
   "execution_count": null,
   "metadata": {},
   "outputs": [],
   "source": []
  },
  {
   "cell_type": "markdown",
   "metadata": {},
   "source": [
    "### 2 Categorieen\n",
    "Sommige kolommen bestaan uit numerieke data waarop je rekenkundige bewerkingen kunt uitvoeren. De andere kolommen, behalve 1,  bestaan uit categorieen .\n",
    "- Toon een overzicht van de data types van de kolommen.\n",
    "- Maak een list van de kolomnamen van kolommen die je als categorieen kunt beschouwen. **Hint:** dit kunnen ook numerieke kolommen zijn.\n",
    "- Toon van deze kolommen het aantal unieke waardes.\n",
    "- Verander het datatype van de relevante kolommen in 'category'."
   ]
  },
  {
   "cell_type": "code",
   "execution_count": null,
   "metadata": {},
   "outputs": [],
   "source": []
  },
  {
   "cell_type": "markdown",
   "metadata": {},
   "source": [
    "### 3 Numerieke kolommen\n",
    "- Maak een dataframe met daarin alleen de numerieke kolommen.\n",
    "- Toon de beschrijvende statistieken van dit dataframe.\n",
    "- Leg uit wat iedere regel betekent. Geef ook aan hoe deze waardes worden berekend.\n",
    "- Wat valt je op? Denk hierbij o.a. aan missende waardes. Vergelijk ook de mediaan en het gemiddelde van de kolommen met elkaar. \n",
    "- Wat is de oorzaak dat soms de mediaan en het gemiddelde sterk verschillen?"
   ]
  },
  {
   "cell_type": "code",
   "execution_count": null,
   "metadata": {},
   "outputs": [],
   "source": [
    "\n"
   ]
  },
  {
   "cell_type": "markdown",
   "metadata": {},
   "source": [
    "### 4 Verdelingen: histogrammen\n",
    "Bij de vorige vraag konden we nog niet goed verklaren waarom bijvoorbeeld het gemiddelde afwijkt van de mediaan. We hebben daarom inzicht nodig in de verdelingen. Een manier om dit inzicht te krijgen is met een histogram.\n",
    "- Leg uit wat een histogram is. \n",
    "- Toon van alle relevante kolommen een histogram.\n",
    "- Beschrijf wat je ziet in ieder histogram. Lijkt het op een normale verdeling? Zie je skewness? Zijn er outliers?\n",
    "- Klopt je vermoeden over de verschillen tussen mediaan en gemiddelde?"
   ]
  },
  {
   "cell_type": "code",
   "execution_count": 2,
   "metadata": {},
   "outputs": [],
   "source": [
    "import seaborn as sns\n",
    "import matplotlib.pyplot as plt"
   ]
  },
  {
   "cell_type": "markdown",
   "metadata": {},
   "source": [
    "### 5 Verdelingen: Boxplots\n",
    "Een andere manier om naar verdelingen te kijken is met boxplots. \n",
    "- Toon een boxplot van de Year_Birth kolom.\n",
    "- Leg uit wat je hieruit afleest. Gebruik hierbij de volgende termen:\n",
    "    - kwartiel en kwartielafstand\n",
    "    - Mediaan\n",
    "    - Snorharen (whiskers)\n",
    "    - Outliers"
   ]
  },
  {
   "cell_type": "code",
   "execution_count": null,
   "metadata": {},
   "outputs": [],
   "source": []
  },
  {
   "cell_type": "markdown",
   "metadata": {},
   "source": [
    "Bereken de volgende waardes van 'Year_Birth' (**hint**: gebruik o.a. .quantile()):\n",
    "- 1e kwartiel\n",
    "- 3e kwartiel\n",
    "- kwartielafstand\n",
    "- upper whisker\n",
    "- lower whisker"
   ]
  },
  {
   "cell_type": "code",
   "execution_count": null,
   "metadata": {},
   "outputs": [],
   "source": []
  },
  {
   "cell_type": "markdown",
   "metadata": {},
   "source": [
    "- Toon de boxplots van alle relevante kolommen\n",
    "- Beschrijf wat je opvalt."
   ]
  },
  {
   "cell_type": "code",
   "execution_count": null,
   "metadata": {},
   "outputs": [],
   "source": []
  }
 ],
 "metadata": {
  "kernelspec": {
   "display_name": "Python 3 (ipykernel)",
   "language": "python",
   "name": "python3"
  },
  "language_info": {
   "codemirror_mode": {
    "name": "ipython",
    "version": 3
   },
   "file_extension": ".py",
   "mimetype": "text/x-python",
   "name": "python",
   "nbconvert_exporter": "python",
   "pygments_lexer": "ipython3",
   "version": "3.10.12"
  },
  "nbTranslate": {
   "displayLangs": [
    "*"
   ],
   "hotkey": "alt-t",
   "langInMainMenu": true,
   "sourceLang": "en",
   "targetLang": "fr",
   "useGoogleTranslate": true
  }
 },
 "nbformat": 4,
 "nbformat_minor": 2
}
